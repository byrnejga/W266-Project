{
 "cells": [
  {
   "cell_type": "code",
   "execution_count": null,
   "id": "subtle-behalf",
   "metadata": {},
   "outputs": [],
   "source": [
    "# !pip install tensorflow_text\n",
    "# !pip install transformers\n",
    "# !pip install keras-tuner"
   ]
  },
  {
   "cell_type": "code",
   "execution_count": 1,
   "id": "twelve-powell",
   "metadata": {},
   "outputs": [
    {
     "name": "stdout",
     "output_type": "stream",
     "text": [
      "*************** DEBUG DETAILS TURNED ON *****************\n"
     ]
    }
   ],
   "source": [
    "## Usual Imports\n",
    "\n",
    "## Math and Arrays\n",
    "import numpy as np\n",
    "# import pandas as pd\n",
    "from statistics import mean\n",
    "\n",
    "# OS and Utilities\n",
    "import sys\n",
    "import datetime\n",
    "\n",
    "## File and String Handling\n",
    "import re\n",
    "import json\n",
    "import string\n",
    "\n",
    "# Visualizations\n",
    "import matplotlib.pyplot as plt\n",
    "\n",
    "# BERT\n",
    "from transformers import *\n",
    "from transformers import DistilBertTokenizerFast,  TFBertModel, BertConfig\n",
    "\n",
    "# Tensorflow 2 core - preprocessing no longer needed as we are using BERT\n",
    "import tensorflow as tf\n",
    "import tensorflow_hub as hub\n",
    "import tensorflow_text as text\n",
    "from tensorflow import keras\n",
    "\n",
    "#Import Tuining toolkit for automatic Hyperparameter search\n",
    "import kerastuner as kt\n",
    "\n",
    "# from tensorflow.keras.layers.experimental.preprocessing import TextVectorization\n",
    "# from tensorflow.keras.preprocessing.sequence import pad_sequences\n",
    "\n",
    "# Add local path to .py modules and add utilities\n",
    "sys.path.insert(0, '../python')\n",
    "\n",
    "import debug\n",
    "\n",
    "from jbyrne_utils import load_data\n",
    "# from jbyrne_utils import tokenize_sentences\n",
    "# from jbyrne_utils import embed_matrix\n",
    "# from jbyrne_utils import run_model\n",
    "\n",
    "# Set message level\n",
    "\n",
    "# debug.off()\n",
    "# debug.on()\n",
    "debug.show_detail()\n"
   ]
  },
  {
   "cell_type": "code",
   "execution_count": 2,
   "id": "massive-destination",
   "metadata": {},
   "outputs": [],
   "source": [
    "### Parameters for the base model\n",
    "\n",
    "# maximum number of tokens to look at.\n",
    "max_len = 100\n",
    "\n"
   ]
  },
  {
   "cell_type": "markdown",
   "id": "dress-brisbane",
   "metadata": {},
   "source": [
    "## Step 1:  Load the ClaimBuster datafile"
   ]
  },
  {
   "cell_type": "code",
   "execution_count": 3,
   "id": "amateur-sister",
   "metadata": {},
   "outputs": [
    {
     "name": "stdout",
     "output_type": "stream",
     "text": [
      "Loaded 11056 data records.\n"
     ]
    }
   ],
   "source": [
    "d = load_data(\"../data/3xNCS.json\")\n",
    "\n",
    "# Randomize the order as the data is sorted by class\n",
    "np.random.seed(42)\n",
    "np.random.shuffle(d)\n"
   ]
  },
  {
   "cell_type": "code",
   "execution_count": 4,
   "id": "precise-intermediate",
   "metadata": {},
   "outputs": [
    {
     "data": {
      "text/plain": [
       "{'sentence_id': 9703,\n",
       " 'label': 1,\n",
       " 'text': 'President Obama was right, he said that that was outrageous to have deficits as high as half a trillion dollars under the Bush years.'}"
      ]
     },
     "execution_count": 4,
     "metadata": {},
     "output_type": "execute_result"
    }
   ],
   "source": [
    "## View a random example entry\n",
    "d[512]"
   ]
  },
  {
   "cell_type": "markdown",
   "id": "suspected-choice",
   "metadata": {},
   "source": [
    "## Step 2:  Tokenize the sentences using BERT tokenizer\n",
    "\n"
   ]
  },
  {
   "cell_type": "code",
   "execution_count": 5,
   "id": "scenic-climate",
   "metadata": {},
   "outputs": [
    {
     "data": {
      "application/vnd.jupyter.widget-view+json": {
       "model_id": "6f45b7aab1a54162bcc638151ba2045e",
       "version_major": 2,
       "version_minor": 0
      },
      "text/plain": [
       "Downloading:   0%|          | 0.00/232k [00:00<?, ?B/s]"
      ]
     },
     "metadata": {},
     "output_type": "display_data"
    },
    {
     "data": {
      "application/vnd.jupyter.widget-view+json": {
       "model_id": "7d29fbcb168e40fe88cffafa1fdfcf4d",
       "version_major": 2,
       "version_minor": 0
      },
      "text/plain": [
       "Downloading:   0%|          | 0.00/466k [00:00<?, ?B/s]"
      ]
     },
     "metadata": {},
     "output_type": "display_data"
    },
    {
     "data": {
      "application/vnd.jupyter.widget-view+json": {
       "model_id": "c528f38273274369aad4780d9e5988c9",
       "version_major": 2,
       "version_minor": 0
      },
      "text/plain": [
       "Downloading:   0%|          | 0.00/28.0 [00:00<?, ?B/s]"
      ]
     },
     "metadata": {},
     "output_type": "display_data"
    }
   ],
   "source": [
    "bert_tokenizer = DistilBertTokenizerFast.from_pretrained(\"distilbert-base-uncased\")"
   ]
  },
  {
   "cell_type": "code",
   "execution_count": 6,
   "id": "assisted-salon",
   "metadata": {},
   "outputs": [
    {
     "name": "stdout",
     "output_type": "stream",
     "text": [
      "****************** DEBUG TURNED ON **********************\n",
      "11056 11056 11056 11056\n",
      "*************** DEBUG DETAILS TURNED ON *****************\n"
     ]
    }
   ],
   "source": [
    "input_sentences=[]\n",
    "input_ids=[]\n",
    "attention_masks=[]  # used so BERT can discount padding in the fixed-length token list\n",
    "\n",
    "# avoid big output for just this cell\n",
    "debug.on()\n",
    "\n",
    "for sentence in [ i[\"text\"] for i in d ]:\n",
    "    input_sentences.append(sentence)\n",
    "    bert_input = bert_tokenizer.encode_plus(sentence,\n",
    "                                            add_special_tokens=True,  # adds the CLS etc.\n",
    "                                            max_length=max_len,\n",
    "                                            truncation=True,          # truncate sentences over max_len\n",
    "                                            padding = 'max_length',   # add padding ids (0) up to max_len\n",
    "                                            return_attention_mask=True)\n",
    "    input_ids.append(bert_input['input_ids'])\n",
    "    attention_masks.append(bert_input['attention_mask'])\n",
    "    debug.detail(bert_input)\n",
    "\n",
    "    \n",
    "input_ids = np.asarray(input_ids)\n",
    "attention_masks = np.asarray(attention_masks)\n",
    "input_sentences = np.asarray(input_sentences)\n",
    "labels = np.array( [i[\"label\"] for i in d] )\n",
    "\n",
    "# check lengths of arrays\n",
    "debug.msg(len(input_ids), len(attention_masks), len(labels), len(input_sentences))\n",
    "\n",
    "# reset to previous debugging level\n",
    "debug.last()"
   ]
  },
  {
   "cell_type": "code",
   "execution_count": 7,
   "id": "social-volunteer",
   "metadata": {},
   "outputs": [
    {
     "name": "stdout",
     "output_type": "stream",
     "text": [
      "President Obama was right, he said that that was outrageous to have deficits as high as half a trillion dollars under the Bush years.\n",
      "[  101  2343  8112  2001  2157  1010  2002  2056  2008  2008  2001 25506\n",
      "  2000  2031 15074  2015  2004  2152  2004  2431  1037 23458  6363  2104\n",
      "  1996  5747  2086  1012   102     0     0     0     0     0     0     0\n",
      "     0     0     0     0     0     0     0     0     0     0     0     0\n",
      "     0     0     0     0     0     0     0     0     0     0     0     0\n",
      "     0     0     0     0     0     0     0     0     0     0     0     0\n",
      "     0     0     0     0     0     0     0     0     0     0     0     0\n",
      "     0     0     0     0     0     0     0     0     0     0     0     0\n",
      "     0     0     0     0]\n"
     ]
    },
    {
     "data": {
      "text/plain": [
       "['[CLS]',\n",
       " 'president',\n",
       " 'obama',\n",
       " 'was',\n",
       " 'right',\n",
       " ',',\n",
       " 'he',\n",
       " 'said',\n",
       " 'that',\n",
       " 'that',\n",
       " 'was',\n",
       " 'outrageous',\n",
       " 'to',\n",
       " 'have',\n",
       " 'deficit',\n",
       " '##s',\n",
       " 'as',\n",
       " 'high',\n",
       " 'as',\n",
       " 'half',\n",
       " 'a',\n",
       " 'trillion',\n",
       " 'dollars',\n",
       " 'under',\n",
       " 'the',\n",
       " 'bush',\n",
       " 'years',\n",
       " '.',\n",
       " '[SEP]',\n",
       " '[PAD]',\n",
       " '[PAD]',\n",
       " '[PAD]',\n",
       " '[PAD]',\n",
       " '[PAD]',\n",
       " '[PAD]',\n",
       " '[PAD]',\n",
       " '[PAD]',\n",
       " '[PAD]',\n",
       " '[PAD]',\n",
       " '[PAD]',\n",
       " '[PAD]',\n",
       " '[PAD]',\n",
       " '[PAD]',\n",
       " '[PAD]',\n",
       " '[PAD]',\n",
       " '[PAD]',\n",
       " '[PAD]',\n",
       " '[PAD]',\n",
       " '[PAD]',\n",
       " '[PAD]',\n",
       " '[PAD]',\n",
       " '[PAD]',\n",
       " '[PAD]',\n",
       " '[PAD]',\n",
       " '[PAD]',\n",
       " '[PAD]',\n",
       " '[PAD]',\n",
       " '[PAD]',\n",
       " '[PAD]',\n",
       " '[PAD]',\n",
       " '[PAD]',\n",
       " '[PAD]',\n",
       " '[PAD]',\n",
       " '[PAD]',\n",
       " '[PAD]',\n",
       " '[PAD]',\n",
       " '[PAD]',\n",
       " '[PAD]',\n",
       " '[PAD]',\n",
       " '[PAD]',\n",
       " '[PAD]',\n",
       " '[PAD]',\n",
       " '[PAD]',\n",
       " '[PAD]',\n",
       " '[PAD]',\n",
       " '[PAD]',\n",
       " '[PAD]',\n",
       " '[PAD]',\n",
       " '[PAD]',\n",
       " '[PAD]',\n",
       " '[PAD]',\n",
       " '[PAD]',\n",
       " '[PAD]',\n",
       " '[PAD]',\n",
       " '[PAD]',\n",
       " '[PAD]',\n",
       " '[PAD]',\n",
       " '[PAD]',\n",
       " '[PAD]',\n",
       " '[PAD]',\n",
       " '[PAD]',\n",
       " '[PAD]',\n",
       " '[PAD]',\n",
       " '[PAD]',\n",
       " '[PAD]',\n",
       " '[PAD]',\n",
       " '[PAD]',\n",
       " '[PAD]',\n",
       " '[PAD]',\n",
       " '[PAD]']"
      ]
     },
     "execution_count": 7,
     "metadata": {},
     "output_type": "execute_result"
    }
   ],
   "source": [
    "## Verify the tokenization of the previous sample sentence\n",
    "\n",
    "debug.msg(d[512][\"text\"])\n",
    "debug.msg(input_ids[512])\n",
    "bert_tokenizer.convert_ids_to_tokens(input_ids[512])\n",
    "\n"
   ]
  },
  {
   "cell_type": "markdown",
   "id": "subject-fleet",
   "metadata": {},
   "source": [
    "## Step 3a: Split into training, validation and test datasets"
   ]
  },
  {
   "cell_type": "code",
   "execution_count": 8,
   "id": "increased-paint",
   "metadata": {},
   "outputs": [
    {
     "name": "stdout",
     "output_type": "stream",
     "text": [
      "proportion of checkable claims in training data  : 0.2495\n",
      "proportion of checkable claims in validation data: 0.2518\n",
      "8844 8844 8844 8844\n",
      "2212 2212 2212 2212\n"
     ]
    }
   ],
   "source": [
    "train_len = int(0.8 * len(d))\n",
    "val_len = int(0.2 * len(d))\n",
    "\n",
    "train_ids, val_ids             = np.split(input_ids, [train_len])\n",
    "train_attn, val_attn           = np.split(attention_masks, [train_len])\n",
    "train_sentences, val_sentences = np.split(input_sentences, [train_len])\n",
    "train_labels, val_labels       = np.split(labels, [train_len])\n",
    "\n",
    "debug.msg(f\"proportion of checkable claims in training data  : {np.count_nonzero(train_labels == 1)/len(train_labels):.4f}\")\n",
    "debug.msg(f\"proportion of checkable claims in validation data: {np.count_nonzero(val_labels == 1)/len(val_labels):.4f}\")\n",
    "\n",
    "debug.detail(len(train_ids), len(train_attn), len(train_sentences), len(train_labels))\n",
    "debug.detail(len(val_ids), len(val_attn), len(val_sentences), len(val_labels))"
   ]
  },
  {
   "cell_type": "code",
   "execution_count": 9,
   "id": "nasty-pillow",
   "metadata": {},
   "outputs": [
    {
     "data": {
      "text/plain": [
       "array([1, 0, 0, ..., 0, 0, 0])"
      ]
     },
     "execution_count": 9,
     "metadata": {},
     "output_type": "execute_result"
    }
   ],
   "source": [
    "train_labels"
   ]
  },
  {
   "cell_type": "markdown",
   "id": "lyric-green",
   "metadata": {},
   "source": [
    "## Step 3b: Even out the checkable and non-checkable classes.\n",
    "\n",
    "The intention here is to equalize the number of checkable and non-checkable sentences. In the raw dataset, approximately 25% of the statements are labelled as checkable claims.\n",
    "\n",
    "As we are looking at detailed text and whether it includes a checkable claim, there is no reliable equivalent of the data enhancement techniques that exist for image or sound data.  \n",
    "\n",
    "We are presented with the choice, therefore, of removing $\\frac{2}{3}$ of the non-checkable claims - as the source dataset has provided, or adding two copies of each checkable claim to reach approximately a 1:1 ratio of classes in the training data. The second method has proved especially successful in the CNN examples, so we will do the same for the BERT case.\n"
   ]
  },
  {
   "cell_type": "code",
   "execution_count": 10,
   "id": "fitted-incidence",
   "metadata": {},
   "outputs": [
    {
     "name": "stdout",
     "output_type": "stream",
     "text": [
      "(8844, 100)\n",
      "(8844, 100)\n",
      "(8844,)\n",
      "(8844,)\n"
     ]
    }
   ],
   "source": [
    "## Ideally we could rerandomize the training set, but\n",
    "## for the moment, we will try just adding copies of \n",
    "## the positive records to the end.\n",
    "\n",
    "pos_train_ids = train_ids[ train_labels == 1 ]\n",
    "pos_train_attn = train_attn[ train_labels == 1 ]\n",
    "pos_train_sentences = train_sentences[ train_labels == 1 ]\n",
    "pos_train_labels = train_labels[ train_labels == 1 ]  # kinda redundant, but an easy way to get the right length.\n",
    "\n",
    "print(train_ids.shape)\n",
    "print(train_attn.shape)\n",
    "print(train_sentences.shape)\n",
    "print(train_labels.shape)\n",
    "\n",
    "\n",
    "## concatenate two copies of the positive cases to each of the training datasets\n",
    "\n",
    "train_ids       = np.concatenate( (train_ids, pos_train_ids, pos_train_ids) )\n",
    "train_attn      = np.concatenate( (train_attn, pos_train_attn, pos_train_attn) )\n",
    "train_sentences = np.concatenate( (train_sentences, pos_train_sentences, pos_train_sentences) )\n",
    "train_labels    = np.concatenate( (train_labels, pos_train_labels, pos_train_labels) )"
   ]
  },
  {
   "cell_type": "code",
   "execution_count": 11,
   "id": "inner-estate",
   "metadata": {},
   "outputs": [
    {
     "name": "stdout",
     "output_type": "stream",
     "text": [
      "(2207, 100)\n",
      "(2207, 100)\n",
      "(2207,)\n",
      "(2207,)\n",
      "(13258, 100)\n",
      "(13258, 100)\n",
      "(13258,)\n",
      "(13258,)\n"
     ]
    }
   ],
   "source": [
    "print(f\"train_ids.shape:       {train_ids.shape}\")\n",
    "print(f\"train_attn.shape:      {train_attn.shape}\")\n",
    "print(f\"train_sentences.shape: {train_sentences.shape}\")\n",
    "print(f\"train_labels.shape:    {train_labels.shape}\\n\\n\")\n",
    "\n",
    "print(f\"val_ids.shape:         {val_ids.shape}\")\n",
    "print(f\"val_attn.shape:        {val_attn.shape}\")\n",
    "print(f\"val_sentences.shape:   {val_sentences.shape}\")\n",
    "print(f\"val_labels.shape:      {val_labels.shape}\")"
   ]
  },
  {
   "cell_type": "markdown",
   "id": "ready-force",
   "metadata": {},
   "source": [
    "## Step 4: Set up the Bert model\n",
    "\n",
    "Claim detection is a sentence classification task, so for the first runs, I will base this on the `TFBertForSequenceClassification` class from the huggungface Tensorflow implementation of Bert. \n",
    "\n",
    "To keep it simple, the model build is packaged into a build_bert_model function that returns a compiled model\n",
    "with the search space already added.\n",
    "\n"
   ]
  },
  {
   "cell_type": "code",
   "execution_count": 12,
   "id": "sharing-cosmetic",
   "metadata": {},
   "outputs": [],
   "source": [
    "# Function to build the model with hyperparameter search spaces included\n",
    "\n",
    "def build_bert_model(hp):\n",
    "    \n",
    "    ################################################\n",
    "    ####  DEFINE THE HYPERPARAMETER SEARCH SPACE ###\n",
    "    ################################################\n",
    "    bert_trainable = hp.Choice('bert_trainable', values=[True, False])\n",
    "                               \n",
    "    optimizer      = keras.optimizers.Adam( hp.Choice('learning_rate',\n",
    "                                                      values=[5e-4, 2e-4, 1e-4, 5e-5, 2e-5, 1e-5, \\\n",
    "                                                              5e-6, 2e-6, 1e-6]),\n",
    "                                            hp.Choice('epsilon',\n",
    "                                                      values= [5e-8, 2e-8, 1e-8, 5e-7, 2e-7, 1e-7, \\\n",
    "                                                               5e-6, 2e-6, 1e-6, 5e-5, 2e-5, 1e-5]))\n",
    "    \n",
    "    loss           = tf.keras.losses.SparseCategoricalCrossentropy(from_logits=True)\n",
    "    metric         = keras.metrics.SparseCategoricalAccuracy('accuracy')\n",
    "\n",
    "    \n",
    "    ###############################\n",
    "    ####  CREATE THE BERT MODEL ###\n",
    "    ###############################\n",
    "    bert_model = DistilBertForSequenceClassification.from_pretrained('bert-base-uncased',\n",
    "                                                                 num_labels=2,\n",
    "                                                                 trainable=bert_trainable)\n",
    "    print('\\nBert Model',bert_model.summary())\n",
    "\n",
    "    ############################################\n",
    "    ####  COMPILE THE MODEL WITH THE CHOICES ###\n",
    "    ############################################\n",
    "    bert_model.compile(loss=loss, optimizer=optimizer, metrics=[metric] )\n",
    "\n",
    "    return(bert_model)"
   ]
  },
  {
   "cell_type": "markdown",
   "id": "thirty-court",
   "metadata": {},
   "source": [
    "## Step 5: Set up the Keras Tuner\n",
    "\n",
    "From https://github.com/keras-team/keras-tuner/README.md:\n",
    "\n",
    "***\n",
    "Next, instantiate a tuner. You should specify the model-building function, the name of the objective to optimize (whether to minimize or maximize is automatically inferred for built-in metrics), the total number of trials (max_trials) to test, and the number of models that should be built and fit for each trial (executions_per_trial).\n",
    "\n",
    "Available tuners are `RandomSearch` and `Hyperband`.\n",
    "\n",
    "Note: the purpose of having multiple executions per trial is to reduce results variance and therefore be able to more accurately assess the performance of a model. If you want to get results faster, you could set executions_per_trial=1 (single round of training for each model configuration).\n",
    "***\n",
    "\n",
    "More reading shows that there are additional tuners in `kt.tuners` like `kt.tuners.BayesianOptimization`."
   ]
  },
  {
   "cell_type": "code",
   "execution_count": 13,
   "id": "smaller-richardson",
   "metadata": {},
   "outputs": [
    {
     "name": "stderr",
     "output_type": "stream",
     "text": [
      "Traceback (most recent call last):\n",
      "  File \"/home/james/anaconda3/envs/w266/lib/python3.8/site-packages/kerastuner/engine/hypermodel.py\", line 104, in build\n",
      "    model = self.hypermodel.build(hp)\n",
      "  File \"<ipython-input-12-149e25dd6ffe>\", line 18, in build_bert_model\n",
      "    metric         = keras.metrics.SparseCategoricalAccuracy('accuracy')\n",
      "  File \"/home/james/anaconda3/envs/w266/lib/python3.8/site-packages/tensorflow/python/keras/metrics.py\", line 831, in __init__\n",
      "    super(SparseCategoricalAccuracy, self).__init__(\n",
      "  File \"/home/james/anaconda3/envs/w266/lib/python3.8/site-packages/tensorflow/python/keras/metrics.py\", line 584, in __init__\n",
      "    super(MeanMetricWrapper, self).__init__(name=name, dtype=dtype)\n",
      "  File \"/home/james/anaconda3/envs/w266/lib/python3.8/site-packages/tensorflow/python/keras/metrics.py\", line 488, in __init__\n",
      "    super(Mean, self).__init__(\n",
      "  File \"/home/james/anaconda3/envs/w266/lib/python3.8/site-packages/tensorflow/python/keras/metrics.py\", line 335, in __init__\n",
      "    self.total = self.add_weight(\n",
      "  File \"/home/james/anaconda3/envs/w266/lib/python3.8/site-packages/tensorflow/python/keras/metrics.py\", line 306, in add_weight\n",
      "    return super(Metric, self).add_weight(\n",
      "  File \"/home/james/anaconda3/envs/w266/lib/python3.8/site-packages/tensorflow/python/keras/engine/base_layer.py\", line 623, in add_weight\n",
      "    variable = self._add_variable_with_custom_getter(\n",
      "  File \"/home/james/anaconda3/envs/w266/lib/python3.8/site-packages/tensorflow/python/training/tracking/base.py\", line 805, in _add_variable_with_custom_getter\n",
      "    new_variable = getter(\n",
      "  File \"/home/james/anaconda3/envs/w266/lib/python3.8/site-packages/tensorflow/python/keras/engine/base_layer_utils.py\", line 130, in make_variable\n",
      "    return tf_variables.VariableV1(\n",
      "  File \"/home/james/anaconda3/envs/w266/lib/python3.8/site-packages/tensorflow/python/ops/variables.py\", line 260, in __call__\n",
      "    return cls._variable_v1_call(*args, **kwargs)\n",
      "  File \"/home/james/anaconda3/envs/w266/lib/python3.8/site-packages/tensorflow/python/ops/variables.py\", line 206, in _variable_v1_call\n",
      "    return previous_getter(\n",
      "  File \"/home/james/anaconda3/envs/w266/lib/python3.8/site-packages/tensorflow/python/ops/variables.py\", line 199, in <lambda>\n",
      "    previous_getter = lambda **kwargs: default_variable_creator(None, **kwargs)\n",
      "  File \"/home/james/anaconda3/envs/w266/lib/python3.8/site-packages/tensorflow/python/ops/variable_scope.py\", line 2604, in default_variable_creator\n",
      "    return resource_variable_ops.ResourceVariable(\n",
      "  File \"/home/james/anaconda3/envs/w266/lib/python3.8/site-packages/tensorflow/python/ops/variables.py\", line 264, in __call__\n",
      "    return super(VariableMetaclass, cls).__call__(*args, **kwargs)\n",
      "  File \"/home/james/anaconda3/envs/w266/lib/python3.8/site-packages/tensorflow/python/ops/resource_variable_ops.py\", line 1574, in __init__\n",
      "    self._init_from_args(\n",
      "  File \"/home/james/anaconda3/envs/w266/lib/python3.8/site-packages/tensorflow/python/ops/resource_variable_ops.py\", line 1712, in _init_from_args\n",
      "    initial_value = initial_value()\n",
      "  File \"/home/james/anaconda3/envs/w266/lib/python3.8/site-packages/tensorflow/python/ops/init_ops.py\", line 114, in __call__\n",
      "    return array_ops.zeros(shape, dtype)\n",
      "  File \"/home/james/anaconda3/envs/w266/lib/python3.8/site-packages/tensorflow/python/util/dispatch.py\", line 201, in wrapper\n",
      "    return target(*args, **kwargs)\n",
      "  File \"/home/james/anaconda3/envs/w266/lib/python3.8/site-packages/tensorflow/python/ops/array_ops.py\", line 2819, in wrapped\n",
      "    tensor = fun(*args, **kwargs)\n",
      "  File \"/home/james/anaconda3/envs/w266/lib/python3.8/site-packages/tensorflow/python/ops/array_ops.py\", line 2873, in zeros\n",
      "    shape = constant_op._tensor_shape_tensor_conversion_function(\n",
      "  File \"/home/james/anaconda3/envs/w266/lib/python3.8/site-packages/tensorflow/python/framework/constant_op.py\", line 374, in _tensor_shape_tensor_conversion_function\n",
      "    return constant(s_list, dtype=dtype, name=name)\n",
      "  File \"/home/james/anaconda3/envs/w266/lib/python3.8/site-packages/tensorflow/python/framework/constant_op.py\", line 264, in constant\n",
      "    return _constant_impl(value, dtype, shape, name, verify_shape=False,\n",
      "  File \"/home/james/anaconda3/envs/w266/lib/python3.8/site-packages/tensorflow/python/framework/constant_op.py\", line 276, in _constant_impl\n",
      "    return _constant_eager_impl(ctx, value, dtype, shape, verify_shape)\n",
      "  File \"/home/james/anaconda3/envs/w266/lib/python3.8/site-packages/tensorflow/python/framework/constant_op.py\", line 301, in _constant_eager_impl\n",
      "    t = convert_to_eager_tensor(value, ctx, dtype)\n",
      "  File \"/home/james/anaconda3/envs/w266/lib/python3.8/site-packages/tensorflow/python/framework/constant_op.py\", line 97, in convert_to_eager_tensor\n",
      "    ctx.ensure_initialized()\n",
      "  File \"/home/james/anaconda3/envs/w266/lib/python3.8/site-packages/tensorflow/python/eager/context.py\", line 526, in ensure_initialized\n",
      "    context_handle = pywrap_tfe.TFE_NewContext(opts)\n",
      "tensorflow.python.framework.errors_impl.InternalError: CUDA runtime implicit initialization on GPU:0 failed. Status: out of memory\n",
      "Traceback (most recent call last):\n",
      "  File \"/home/james/anaconda3/envs/w266/lib/python3.8/site-packages/kerastuner/engine/hypermodel.py\", line 104, in build\n",
      "    model = self.hypermodel.build(hp)\n",
      "  File \"<ipython-input-12-149e25dd6ffe>\", line 18, in build_bert_model\n",
      "    metric         = keras.metrics.SparseCategoricalAccuracy('accuracy')\n",
      "  File \"/home/james/anaconda3/envs/w266/lib/python3.8/site-packages/tensorflow/python/keras/metrics.py\", line 831, in __init__\n",
      "    super(SparseCategoricalAccuracy, self).__init__(\n",
      "  File \"/home/james/anaconda3/envs/w266/lib/python3.8/site-packages/tensorflow/python/keras/metrics.py\", line 584, in __init__\n",
      "    super(MeanMetricWrapper, self).__init__(name=name, dtype=dtype)\n",
      "  File \"/home/james/anaconda3/envs/w266/lib/python3.8/site-packages/tensorflow/python/keras/metrics.py\", line 488, in __init__\n",
      "    super(Mean, self).__init__(\n",
      "  File \"/home/james/anaconda3/envs/w266/lib/python3.8/site-packages/tensorflow/python/keras/metrics.py\", line 335, in __init__\n",
      "    self.total = self.add_weight(\n",
      "  File \"/home/james/anaconda3/envs/w266/lib/python3.8/site-packages/tensorflow/python/keras/metrics.py\", line 306, in add_weight\n",
      "    return super(Metric, self).add_weight(\n",
      "  File \"/home/james/anaconda3/envs/w266/lib/python3.8/site-packages/tensorflow/python/keras/engine/base_layer.py\", line 623, in add_weight\n",
      "    variable = self._add_variable_with_custom_getter(\n",
      "  File \"/home/james/anaconda3/envs/w266/lib/python3.8/site-packages/tensorflow/python/training/tracking/base.py\", line 805, in _add_variable_with_custom_getter\n",
      "    new_variable = getter(\n",
      "  File \"/home/james/anaconda3/envs/w266/lib/python3.8/site-packages/tensorflow/python/keras/engine/base_layer_utils.py\", line 130, in make_variable\n",
      "    return tf_variables.VariableV1(\n",
      "  File \"/home/james/anaconda3/envs/w266/lib/python3.8/site-packages/tensorflow/python/ops/variables.py\", line 260, in __call__\n",
      "    return cls._variable_v1_call(*args, **kwargs)\n",
      "  File \"/home/james/anaconda3/envs/w266/lib/python3.8/site-packages/tensorflow/python/ops/variables.py\", line 206, in _variable_v1_call\n",
      "    return previous_getter(\n",
      "  File \"/home/james/anaconda3/envs/w266/lib/python3.8/site-packages/tensorflow/python/ops/variables.py\", line 199, in <lambda>\n",
      "    previous_getter = lambda **kwargs: default_variable_creator(None, **kwargs)\n",
      "  File \"/home/james/anaconda3/envs/w266/lib/python3.8/site-packages/tensorflow/python/ops/variable_scope.py\", line 2604, in default_variable_creator\n",
      "    return resource_variable_ops.ResourceVariable(\n",
      "  File \"/home/james/anaconda3/envs/w266/lib/python3.8/site-packages/tensorflow/python/ops/variables.py\", line 264, in __call__\n",
      "    return super(VariableMetaclass, cls).__call__(*args, **kwargs)\n",
      "  File \"/home/james/anaconda3/envs/w266/lib/python3.8/site-packages/tensorflow/python/ops/resource_variable_ops.py\", line 1574, in __init__\n",
      "    self._init_from_args(\n",
      "  File \"/home/james/anaconda3/envs/w266/lib/python3.8/site-packages/tensorflow/python/ops/resource_variable_ops.py\", line 1712, in _init_from_args\n",
      "    initial_value = initial_value()\n",
      "  File \"/home/james/anaconda3/envs/w266/lib/python3.8/site-packages/tensorflow/python/ops/init_ops.py\", line 114, in __call__\n",
      "    return array_ops.zeros(shape, dtype)\n",
      "  File \"/home/james/anaconda3/envs/w266/lib/python3.8/site-packages/tensorflow/python/util/dispatch.py\", line 201, in wrapper\n",
      "    return target(*args, **kwargs)\n",
      "  File \"/home/james/anaconda3/envs/w266/lib/python3.8/site-packages/tensorflow/python/ops/array_ops.py\", line 2819, in wrapped\n",
      "    tensor = fun(*args, **kwargs)\n",
      "  File \"/home/james/anaconda3/envs/w266/lib/python3.8/site-packages/tensorflow/python/ops/array_ops.py\", line 2873, in zeros\n",
      "    shape = constant_op._tensor_shape_tensor_conversion_function(\n",
      "  File \"/home/james/anaconda3/envs/w266/lib/python3.8/site-packages/tensorflow/python/framework/constant_op.py\", line 374, in _tensor_shape_tensor_conversion_function\n",
      "    return constant(s_list, dtype=dtype, name=name)\n",
      "  File \"/home/james/anaconda3/envs/w266/lib/python3.8/site-packages/tensorflow/python/framework/constant_op.py\", line 264, in constant\n",
      "    return _constant_impl(value, dtype, shape, name, verify_shape=False,\n",
      "  File \"/home/james/anaconda3/envs/w266/lib/python3.8/site-packages/tensorflow/python/framework/constant_op.py\", line 276, in _constant_impl\n",
      "    return _constant_eager_impl(ctx, value, dtype, shape, verify_shape)\n",
      "  File \"/home/james/anaconda3/envs/w266/lib/python3.8/site-packages/tensorflow/python/framework/constant_op.py\", line 301, in _constant_eager_impl\n",
      "    t = convert_to_eager_tensor(value, ctx, dtype)\n",
      "  File \"/home/james/anaconda3/envs/w266/lib/python3.8/site-packages/tensorflow/python/framework/constant_op.py\", line 97, in convert_to_eager_tensor\n",
      "    ctx.ensure_initialized()\n",
      "  File \"/home/james/anaconda3/envs/w266/lib/python3.8/site-packages/tensorflow/python/eager/context.py\", line 526, in ensure_initialized\n",
      "    context_handle = pywrap_tfe.TFE_NewContext(opts)\n",
      "tensorflow.python.framework.errors_impl.InternalError: CUDA runtime implicit initialization on GPU:0 failed. Status: out of memory\n"
     ]
    },
    {
     "name": "stdout",
     "output_type": "stream",
     "text": [
      "Invalid model 0/5\n",
      "Invalid model 1/5\n"
     ]
    },
    {
     "name": "stderr",
     "output_type": "stream",
     "text": [
      "Traceback (most recent call last):\n",
      "  File \"/home/james/anaconda3/envs/w266/lib/python3.8/site-packages/kerastuner/engine/hypermodel.py\", line 104, in build\n",
      "    model = self.hypermodel.build(hp)\n",
      "  File \"<ipython-input-12-149e25dd6ffe>\", line 18, in build_bert_model\n",
      "    metric         = keras.metrics.SparseCategoricalAccuracy('accuracy')\n",
      "  File \"/home/james/anaconda3/envs/w266/lib/python3.8/site-packages/tensorflow/python/keras/metrics.py\", line 831, in __init__\n",
      "    super(SparseCategoricalAccuracy, self).__init__(\n",
      "  File \"/home/james/anaconda3/envs/w266/lib/python3.8/site-packages/tensorflow/python/keras/metrics.py\", line 584, in __init__\n",
      "    super(MeanMetricWrapper, self).__init__(name=name, dtype=dtype)\n",
      "  File \"/home/james/anaconda3/envs/w266/lib/python3.8/site-packages/tensorflow/python/keras/metrics.py\", line 488, in __init__\n",
      "    super(Mean, self).__init__(\n",
      "  File \"/home/james/anaconda3/envs/w266/lib/python3.8/site-packages/tensorflow/python/keras/metrics.py\", line 335, in __init__\n",
      "    self.total = self.add_weight(\n",
      "  File \"/home/james/anaconda3/envs/w266/lib/python3.8/site-packages/tensorflow/python/keras/metrics.py\", line 306, in add_weight\n",
      "    return super(Metric, self).add_weight(\n",
      "  File \"/home/james/anaconda3/envs/w266/lib/python3.8/site-packages/tensorflow/python/keras/engine/base_layer.py\", line 623, in add_weight\n",
      "    variable = self._add_variable_with_custom_getter(\n",
      "  File \"/home/james/anaconda3/envs/w266/lib/python3.8/site-packages/tensorflow/python/training/tracking/base.py\", line 805, in _add_variable_with_custom_getter\n",
      "    new_variable = getter(\n",
      "  File \"/home/james/anaconda3/envs/w266/lib/python3.8/site-packages/tensorflow/python/keras/engine/base_layer_utils.py\", line 130, in make_variable\n",
      "    return tf_variables.VariableV1(\n",
      "  File \"/home/james/anaconda3/envs/w266/lib/python3.8/site-packages/tensorflow/python/ops/variables.py\", line 260, in __call__\n",
      "    return cls._variable_v1_call(*args, **kwargs)\n",
      "  File \"/home/james/anaconda3/envs/w266/lib/python3.8/site-packages/tensorflow/python/ops/variables.py\", line 206, in _variable_v1_call\n",
      "    return previous_getter(\n",
      "  File \"/home/james/anaconda3/envs/w266/lib/python3.8/site-packages/tensorflow/python/ops/variables.py\", line 199, in <lambda>\n",
      "    previous_getter = lambda **kwargs: default_variable_creator(None, **kwargs)\n",
      "  File \"/home/james/anaconda3/envs/w266/lib/python3.8/site-packages/tensorflow/python/ops/variable_scope.py\", line 2604, in default_variable_creator\n",
      "    return resource_variable_ops.ResourceVariable(\n",
      "  File \"/home/james/anaconda3/envs/w266/lib/python3.8/site-packages/tensorflow/python/ops/variables.py\", line 264, in __call__\n",
      "    return super(VariableMetaclass, cls).__call__(*args, **kwargs)\n",
      "  File \"/home/james/anaconda3/envs/w266/lib/python3.8/site-packages/tensorflow/python/ops/resource_variable_ops.py\", line 1574, in __init__\n",
      "    self._init_from_args(\n",
      "  File \"/home/james/anaconda3/envs/w266/lib/python3.8/site-packages/tensorflow/python/ops/resource_variable_ops.py\", line 1712, in _init_from_args\n",
      "    initial_value = initial_value()\n",
      "  File \"/home/james/anaconda3/envs/w266/lib/python3.8/site-packages/tensorflow/python/ops/init_ops.py\", line 114, in __call__\n",
      "    return array_ops.zeros(shape, dtype)\n",
      "  File \"/home/james/anaconda3/envs/w266/lib/python3.8/site-packages/tensorflow/python/util/dispatch.py\", line 201, in wrapper\n",
      "    return target(*args, **kwargs)\n",
      "  File \"/home/james/anaconda3/envs/w266/lib/python3.8/site-packages/tensorflow/python/ops/array_ops.py\", line 2819, in wrapped\n",
      "    tensor = fun(*args, **kwargs)\n",
      "  File \"/home/james/anaconda3/envs/w266/lib/python3.8/site-packages/tensorflow/python/ops/array_ops.py\", line 2873, in zeros\n",
      "    shape = constant_op._tensor_shape_tensor_conversion_function(\n",
      "  File \"/home/james/anaconda3/envs/w266/lib/python3.8/site-packages/tensorflow/python/framework/constant_op.py\", line 374, in _tensor_shape_tensor_conversion_function\n",
      "    return constant(s_list, dtype=dtype, name=name)\n",
      "  File \"/home/james/anaconda3/envs/w266/lib/python3.8/site-packages/tensorflow/python/framework/constant_op.py\", line 264, in constant\n",
      "    return _constant_impl(value, dtype, shape, name, verify_shape=False,\n",
      "  File \"/home/james/anaconda3/envs/w266/lib/python3.8/site-packages/tensorflow/python/framework/constant_op.py\", line 276, in _constant_impl\n",
      "    return _constant_eager_impl(ctx, value, dtype, shape, verify_shape)\n",
      "  File \"/home/james/anaconda3/envs/w266/lib/python3.8/site-packages/tensorflow/python/framework/constant_op.py\", line 301, in _constant_eager_impl\n",
      "    t = convert_to_eager_tensor(value, ctx, dtype)\n",
      "  File \"/home/james/anaconda3/envs/w266/lib/python3.8/site-packages/tensorflow/python/framework/constant_op.py\", line 97, in convert_to_eager_tensor\n",
      "    ctx.ensure_initialized()\n",
      "  File \"/home/james/anaconda3/envs/w266/lib/python3.8/site-packages/tensorflow/python/eager/context.py\", line 526, in ensure_initialized\n",
      "    context_handle = pywrap_tfe.TFE_NewContext(opts)\n",
      "tensorflow.python.framework.errors_impl.InternalError: CUDA runtime implicit initialization on GPU:0 failed. Status: out of memory\n",
      "Traceback (most recent call last):\n",
      "  File \"/home/james/anaconda3/envs/w266/lib/python3.8/site-packages/kerastuner/engine/hypermodel.py\", line 104, in build\n",
      "    model = self.hypermodel.build(hp)\n",
      "  File \"<ipython-input-12-149e25dd6ffe>\", line 18, in build_bert_model\n",
      "    metric         = keras.metrics.SparseCategoricalAccuracy('accuracy')\n",
      "  File \"/home/james/anaconda3/envs/w266/lib/python3.8/site-packages/tensorflow/python/keras/metrics.py\", line 831, in __init__\n",
      "    super(SparseCategoricalAccuracy, self).__init__(\n",
      "  File \"/home/james/anaconda3/envs/w266/lib/python3.8/site-packages/tensorflow/python/keras/metrics.py\", line 584, in __init__\n",
      "    super(MeanMetricWrapper, self).__init__(name=name, dtype=dtype)\n",
      "  File \"/home/james/anaconda3/envs/w266/lib/python3.8/site-packages/tensorflow/python/keras/metrics.py\", line 488, in __init__\n",
      "    super(Mean, self).__init__(\n",
      "  File \"/home/james/anaconda3/envs/w266/lib/python3.8/site-packages/tensorflow/python/keras/metrics.py\", line 335, in __init__\n",
      "    self.total = self.add_weight(\n",
      "  File \"/home/james/anaconda3/envs/w266/lib/python3.8/site-packages/tensorflow/python/keras/metrics.py\", line 306, in add_weight\n",
      "    return super(Metric, self).add_weight(\n",
      "  File \"/home/james/anaconda3/envs/w266/lib/python3.8/site-packages/tensorflow/python/keras/engine/base_layer.py\", line 623, in add_weight\n",
      "    variable = self._add_variable_with_custom_getter(\n",
      "  File \"/home/james/anaconda3/envs/w266/lib/python3.8/site-packages/tensorflow/python/training/tracking/base.py\", line 805, in _add_variable_with_custom_getter\n",
      "    new_variable = getter(\n",
      "  File \"/home/james/anaconda3/envs/w266/lib/python3.8/site-packages/tensorflow/python/keras/engine/base_layer_utils.py\", line 130, in make_variable\n",
      "    return tf_variables.VariableV1(\n",
      "  File \"/home/james/anaconda3/envs/w266/lib/python3.8/site-packages/tensorflow/python/ops/variables.py\", line 260, in __call__\n",
      "    return cls._variable_v1_call(*args, **kwargs)\n",
      "  File \"/home/james/anaconda3/envs/w266/lib/python3.8/site-packages/tensorflow/python/ops/variables.py\", line 206, in _variable_v1_call\n",
      "    return previous_getter(\n",
      "  File \"/home/james/anaconda3/envs/w266/lib/python3.8/site-packages/tensorflow/python/ops/variables.py\", line 199, in <lambda>\n",
      "    previous_getter = lambda **kwargs: default_variable_creator(None, **kwargs)\n",
      "  File \"/home/james/anaconda3/envs/w266/lib/python3.8/site-packages/tensorflow/python/ops/variable_scope.py\", line 2604, in default_variable_creator\n",
      "    return resource_variable_ops.ResourceVariable(\n",
      "  File \"/home/james/anaconda3/envs/w266/lib/python3.8/site-packages/tensorflow/python/ops/variables.py\", line 264, in __call__\n",
      "    return super(VariableMetaclass, cls).__call__(*args, **kwargs)\n",
      "  File \"/home/james/anaconda3/envs/w266/lib/python3.8/site-packages/tensorflow/python/ops/resource_variable_ops.py\", line 1574, in __init__\n",
      "    self._init_from_args(\n",
      "  File \"/home/james/anaconda3/envs/w266/lib/python3.8/site-packages/tensorflow/python/ops/resource_variable_ops.py\", line 1712, in _init_from_args\n",
      "    initial_value = initial_value()\n",
      "  File \"/home/james/anaconda3/envs/w266/lib/python3.8/site-packages/tensorflow/python/ops/init_ops.py\", line 114, in __call__\n",
      "    return array_ops.zeros(shape, dtype)\n",
      "  File \"/home/james/anaconda3/envs/w266/lib/python3.8/site-packages/tensorflow/python/util/dispatch.py\", line 201, in wrapper\n",
      "    return target(*args, **kwargs)\n",
      "  File \"/home/james/anaconda3/envs/w266/lib/python3.8/site-packages/tensorflow/python/ops/array_ops.py\", line 2819, in wrapped\n",
      "    tensor = fun(*args, **kwargs)\n",
      "  File \"/home/james/anaconda3/envs/w266/lib/python3.8/site-packages/tensorflow/python/ops/array_ops.py\", line 2873, in zeros\n",
      "    shape = constant_op._tensor_shape_tensor_conversion_function(\n",
      "  File \"/home/james/anaconda3/envs/w266/lib/python3.8/site-packages/tensorflow/python/framework/constant_op.py\", line 374, in _tensor_shape_tensor_conversion_function\n",
      "    return constant(s_list, dtype=dtype, name=name)\n",
      "  File \"/home/james/anaconda3/envs/w266/lib/python3.8/site-packages/tensorflow/python/framework/constant_op.py\", line 264, in constant\n",
      "    return _constant_impl(value, dtype, shape, name, verify_shape=False,\n",
      "  File \"/home/james/anaconda3/envs/w266/lib/python3.8/site-packages/tensorflow/python/framework/constant_op.py\", line 276, in _constant_impl\n",
      "    return _constant_eager_impl(ctx, value, dtype, shape, verify_shape)\n",
      "  File \"/home/james/anaconda3/envs/w266/lib/python3.8/site-packages/tensorflow/python/framework/constant_op.py\", line 301, in _constant_eager_impl\n",
      "    t = convert_to_eager_tensor(value, ctx, dtype)\n",
      "  File \"/home/james/anaconda3/envs/w266/lib/python3.8/site-packages/tensorflow/python/framework/constant_op.py\", line 97, in convert_to_eager_tensor\n",
      "    ctx.ensure_initialized()\n",
      "  File \"/home/james/anaconda3/envs/w266/lib/python3.8/site-packages/tensorflow/python/eager/context.py\", line 526, in ensure_initialized\n",
      "    context_handle = pywrap_tfe.TFE_NewContext(opts)\n",
      "tensorflow.python.framework.errors_impl.InternalError: CUDA runtime implicit initialization on GPU:0 failed. Status: out of memory\n"
     ]
    },
    {
     "name": "stdout",
     "output_type": "stream",
     "text": [
      "Invalid model 2/5\n",
      "Invalid model 3/5\n"
     ]
    },
    {
     "name": "stderr",
     "output_type": "stream",
     "text": [
      "Traceback (most recent call last):\n",
      "  File \"/home/james/anaconda3/envs/w266/lib/python3.8/site-packages/kerastuner/engine/hypermodel.py\", line 104, in build\n",
      "    model = self.hypermodel.build(hp)\n",
      "  File \"<ipython-input-12-149e25dd6ffe>\", line 18, in build_bert_model\n",
      "    metric         = keras.metrics.SparseCategoricalAccuracy('accuracy')\n",
      "  File \"/home/james/anaconda3/envs/w266/lib/python3.8/site-packages/tensorflow/python/keras/metrics.py\", line 831, in __init__\n",
      "    super(SparseCategoricalAccuracy, self).__init__(\n",
      "  File \"/home/james/anaconda3/envs/w266/lib/python3.8/site-packages/tensorflow/python/keras/metrics.py\", line 584, in __init__\n",
      "    super(MeanMetricWrapper, self).__init__(name=name, dtype=dtype)\n",
      "  File \"/home/james/anaconda3/envs/w266/lib/python3.8/site-packages/tensorflow/python/keras/metrics.py\", line 488, in __init__\n",
      "    super(Mean, self).__init__(\n",
      "  File \"/home/james/anaconda3/envs/w266/lib/python3.8/site-packages/tensorflow/python/keras/metrics.py\", line 335, in __init__\n",
      "    self.total = self.add_weight(\n",
      "  File \"/home/james/anaconda3/envs/w266/lib/python3.8/site-packages/tensorflow/python/keras/metrics.py\", line 306, in add_weight\n",
      "    return super(Metric, self).add_weight(\n",
      "  File \"/home/james/anaconda3/envs/w266/lib/python3.8/site-packages/tensorflow/python/keras/engine/base_layer.py\", line 623, in add_weight\n",
      "    variable = self._add_variable_with_custom_getter(\n",
      "  File \"/home/james/anaconda3/envs/w266/lib/python3.8/site-packages/tensorflow/python/training/tracking/base.py\", line 805, in _add_variable_with_custom_getter\n",
      "    new_variable = getter(\n",
      "  File \"/home/james/anaconda3/envs/w266/lib/python3.8/site-packages/tensorflow/python/keras/engine/base_layer_utils.py\", line 130, in make_variable\n",
      "    return tf_variables.VariableV1(\n",
      "  File \"/home/james/anaconda3/envs/w266/lib/python3.8/site-packages/tensorflow/python/ops/variables.py\", line 260, in __call__\n",
      "    return cls._variable_v1_call(*args, **kwargs)\n",
      "  File \"/home/james/anaconda3/envs/w266/lib/python3.8/site-packages/tensorflow/python/ops/variables.py\", line 206, in _variable_v1_call\n",
      "    return previous_getter(\n",
      "  File \"/home/james/anaconda3/envs/w266/lib/python3.8/site-packages/tensorflow/python/ops/variables.py\", line 199, in <lambda>\n",
      "    previous_getter = lambda **kwargs: default_variable_creator(None, **kwargs)\n",
      "  File \"/home/james/anaconda3/envs/w266/lib/python3.8/site-packages/tensorflow/python/ops/variable_scope.py\", line 2604, in default_variable_creator\n",
      "    return resource_variable_ops.ResourceVariable(\n",
      "  File \"/home/james/anaconda3/envs/w266/lib/python3.8/site-packages/tensorflow/python/ops/variables.py\", line 264, in __call__\n",
      "    return super(VariableMetaclass, cls).__call__(*args, **kwargs)\n",
      "  File \"/home/james/anaconda3/envs/w266/lib/python3.8/site-packages/tensorflow/python/ops/resource_variable_ops.py\", line 1574, in __init__\n",
      "    self._init_from_args(\n",
      "  File \"/home/james/anaconda3/envs/w266/lib/python3.8/site-packages/tensorflow/python/ops/resource_variable_ops.py\", line 1712, in _init_from_args\n",
      "    initial_value = initial_value()\n",
      "  File \"/home/james/anaconda3/envs/w266/lib/python3.8/site-packages/tensorflow/python/ops/init_ops.py\", line 114, in __call__\n",
      "    return array_ops.zeros(shape, dtype)\n",
      "  File \"/home/james/anaconda3/envs/w266/lib/python3.8/site-packages/tensorflow/python/util/dispatch.py\", line 201, in wrapper\n",
      "    return target(*args, **kwargs)\n",
      "  File \"/home/james/anaconda3/envs/w266/lib/python3.8/site-packages/tensorflow/python/ops/array_ops.py\", line 2819, in wrapped\n",
      "    tensor = fun(*args, **kwargs)\n",
      "  File \"/home/james/anaconda3/envs/w266/lib/python3.8/site-packages/tensorflow/python/ops/array_ops.py\", line 2873, in zeros\n",
      "    shape = constant_op._tensor_shape_tensor_conversion_function(\n",
      "  File \"/home/james/anaconda3/envs/w266/lib/python3.8/site-packages/tensorflow/python/framework/constant_op.py\", line 374, in _tensor_shape_tensor_conversion_function\n",
      "    return constant(s_list, dtype=dtype, name=name)\n",
      "  File \"/home/james/anaconda3/envs/w266/lib/python3.8/site-packages/tensorflow/python/framework/constant_op.py\", line 264, in constant\n",
      "    return _constant_impl(value, dtype, shape, name, verify_shape=False,\n",
      "  File \"/home/james/anaconda3/envs/w266/lib/python3.8/site-packages/tensorflow/python/framework/constant_op.py\", line 276, in _constant_impl\n",
      "    return _constant_eager_impl(ctx, value, dtype, shape, verify_shape)\n",
      "  File \"/home/james/anaconda3/envs/w266/lib/python3.8/site-packages/tensorflow/python/framework/constant_op.py\", line 301, in _constant_eager_impl\n",
      "    t = convert_to_eager_tensor(value, ctx, dtype)\n",
      "  File \"/home/james/anaconda3/envs/w266/lib/python3.8/site-packages/tensorflow/python/framework/constant_op.py\", line 97, in convert_to_eager_tensor\n",
      "    ctx.ensure_initialized()\n",
      "  File \"/home/james/anaconda3/envs/w266/lib/python3.8/site-packages/tensorflow/python/eager/context.py\", line 526, in ensure_initialized\n",
      "    context_handle = pywrap_tfe.TFE_NewContext(opts)\n",
      "tensorflow.python.framework.errors_impl.InternalError: CUDA runtime implicit initialization on GPU:0 failed. Status: out of memory\n",
      "Traceback (most recent call last):\n",
      "  File \"/home/james/anaconda3/envs/w266/lib/python3.8/site-packages/kerastuner/engine/hypermodel.py\", line 104, in build\n",
      "    model = self.hypermodel.build(hp)\n",
      "  File \"<ipython-input-12-149e25dd6ffe>\", line 18, in build_bert_model\n",
      "    metric         = keras.metrics.SparseCategoricalAccuracy('accuracy')\n",
      "  File \"/home/james/anaconda3/envs/w266/lib/python3.8/site-packages/tensorflow/python/keras/metrics.py\", line 831, in __init__\n",
      "    super(SparseCategoricalAccuracy, self).__init__(\n",
      "  File \"/home/james/anaconda3/envs/w266/lib/python3.8/site-packages/tensorflow/python/keras/metrics.py\", line 584, in __init__\n",
      "    super(MeanMetricWrapper, self).__init__(name=name, dtype=dtype)\n",
      "  File \"/home/james/anaconda3/envs/w266/lib/python3.8/site-packages/tensorflow/python/keras/metrics.py\", line 488, in __init__\n",
      "    super(Mean, self).__init__(\n",
      "  File \"/home/james/anaconda3/envs/w266/lib/python3.8/site-packages/tensorflow/python/keras/metrics.py\", line 335, in __init__\n",
      "    self.total = self.add_weight(\n",
      "  File \"/home/james/anaconda3/envs/w266/lib/python3.8/site-packages/tensorflow/python/keras/metrics.py\", line 306, in add_weight\n",
      "    return super(Metric, self).add_weight(\n",
      "  File \"/home/james/anaconda3/envs/w266/lib/python3.8/site-packages/tensorflow/python/keras/engine/base_layer.py\", line 623, in add_weight\n",
      "    variable = self._add_variable_with_custom_getter(\n",
      "  File \"/home/james/anaconda3/envs/w266/lib/python3.8/site-packages/tensorflow/python/training/tracking/base.py\", line 805, in _add_variable_with_custom_getter\n",
      "    new_variable = getter(\n",
      "  File \"/home/james/anaconda3/envs/w266/lib/python3.8/site-packages/tensorflow/python/keras/engine/base_layer_utils.py\", line 130, in make_variable\n",
      "    return tf_variables.VariableV1(\n",
      "  File \"/home/james/anaconda3/envs/w266/lib/python3.8/site-packages/tensorflow/python/ops/variables.py\", line 260, in __call__\n",
      "    return cls._variable_v1_call(*args, **kwargs)\n",
      "  File \"/home/james/anaconda3/envs/w266/lib/python3.8/site-packages/tensorflow/python/ops/variables.py\", line 206, in _variable_v1_call\n",
      "    return previous_getter(\n",
      "  File \"/home/james/anaconda3/envs/w266/lib/python3.8/site-packages/tensorflow/python/ops/variables.py\", line 199, in <lambda>\n",
      "    previous_getter = lambda **kwargs: default_variable_creator(None, **kwargs)\n",
      "  File \"/home/james/anaconda3/envs/w266/lib/python3.8/site-packages/tensorflow/python/ops/variable_scope.py\", line 2604, in default_variable_creator\n",
      "    return resource_variable_ops.ResourceVariable(\n",
      "  File \"/home/james/anaconda3/envs/w266/lib/python3.8/site-packages/tensorflow/python/ops/variables.py\", line 264, in __call__\n",
      "    return super(VariableMetaclass, cls).__call__(*args, **kwargs)\n",
      "  File \"/home/james/anaconda3/envs/w266/lib/python3.8/site-packages/tensorflow/python/ops/resource_variable_ops.py\", line 1574, in __init__\n",
      "    self._init_from_args(\n",
      "  File \"/home/james/anaconda3/envs/w266/lib/python3.8/site-packages/tensorflow/python/ops/resource_variable_ops.py\", line 1712, in _init_from_args\n",
      "    initial_value = initial_value()\n",
      "  File \"/home/james/anaconda3/envs/w266/lib/python3.8/site-packages/tensorflow/python/ops/init_ops.py\", line 114, in __call__\n",
      "    return array_ops.zeros(shape, dtype)\n",
      "  File \"/home/james/anaconda3/envs/w266/lib/python3.8/site-packages/tensorflow/python/util/dispatch.py\", line 201, in wrapper\n",
      "    return target(*args, **kwargs)\n",
      "  File \"/home/james/anaconda3/envs/w266/lib/python3.8/site-packages/tensorflow/python/ops/array_ops.py\", line 2819, in wrapped\n",
      "    tensor = fun(*args, **kwargs)\n",
      "  File \"/home/james/anaconda3/envs/w266/lib/python3.8/site-packages/tensorflow/python/ops/array_ops.py\", line 2873, in zeros\n",
      "    shape = constant_op._tensor_shape_tensor_conversion_function(\n",
      "  File \"/home/james/anaconda3/envs/w266/lib/python3.8/site-packages/tensorflow/python/framework/constant_op.py\", line 374, in _tensor_shape_tensor_conversion_function\n",
      "    return constant(s_list, dtype=dtype, name=name)\n",
      "  File \"/home/james/anaconda3/envs/w266/lib/python3.8/site-packages/tensorflow/python/framework/constant_op.py\", line 264, in constant\n",
      "    return _constant_impl(value, dtype, shape, name, verify_shape=False,\n",
      "  File \"/home/james/anaconda3/envs/w266/lib/python3.8/site-packages/tensorflow/python/framework/constant_op.py\", line 276, in _constant_impl\n",
      "    return _constant_eager_impl(ctx, value, dtype, shape, verify_shape)\n",
      "  File \"/home/james/anaconda3/envs/w266/lib/python3.8/site-packages/tensorflow/python/framework/constant_op.py\", line 301, in _constant_eager_impl\n",
      "    t = convert_to_eager_tensor(value, ctx, dtype)\n",
      "  File \"/home/james/anaconda3/envs/w266/lib/python3.8/site-packages/tensorflow/python/framework/constant_op.py\", line 97, in convert_to_eager_tensor\n",
      "    ctx.ensure_initialized()\n",
      "  File \"/home/james/anaconda3/envs/w266/lib/python3.8/site-packages/tensorflow/python/eager/context.py\", line 526, in ensure_initialized\n",
      "    context_handle = pywrap_tfe.TFE_NewContext(opts)\n",
      "tensorflow.python.framework.errors_impl.InternalError: CUDA runtime implicit initialization on GPU:0 failed. Status: out of memory\n"
     ]
    },
    {
     "name": "stdout",
     "output_type": "stream",
     "text": [
      "Invalid model 4/5\n",
      "Invalid model 5/5\n"
     ]
    },
    {
     "ename": "RuntimeError",
     "evalue": "Too many failed attempts to build model.",
     "output_type": "error",
     "traceback": [
      "\u001b[0;31m---------------------------------------------------------------------------\u001b[0m",
      "\u001b[0;31mInternalError\u001b[0m                             Traceback (most recent call last)",
      "\u001b[0;32m~/anaconda3/envs/w266/lib/python3.8/site-packages/kerastuner/engine/hypermodel.py\u001b[0m in \u001b[0;36mbuild\u001b[0;34m(self, hp)\u001b[0m\n\u001b[1;32m    103\u001b[0m                 \u001b[0;32mwith\u001b[0m \u001b[0mmaybe_distribute\u001b[0m\u001b[0;34m(\u001b[0m\u001b[0mself\u001b[0m\u001b[0;34m.\u001b[0m\u001b[0mdistribution_strategy\u001b[0m\u001b[0;34m)\u001b[0m\u001b[0;34m:\u001b[0m\u001b[0;34m\u001b[0m\u001b[0;34m\u001b[0m\u001b[0m\n\u001b[0;32m--> 104\u001b[0;31m                     \u001b[0mmodel\u001b[0m \u001b[0;34m=\u001b[0m \u001b[0mself\u001b[0m\u001b[0;34m.\u001b[0m\u001b[0mhypermodel\u001b[0m\u001b[0;34m.\u001b[0m\u001b[0mbuild\u001b[0m\u001b[0;34m(\u001b[0m\u001b[0mhp\u001b[0m\u001b[0;34m)\u001b[0m\u001b[0;34m\u001b[0m\u001b[0;34m\u001b[0m\u001b[0m\n\u001b[0m\u001b[1;32m    105\u001b[0m             \u001b[0;32mexcept\u001b[0m\u001b[0;34m:\u001b[0m\u001b[0;34m\u001b[0m\u001b[0;34m\u001b[0m\u001b[0m\n",
      "\u001b[0;32m<ipython-input-12-149e25dd6ffe>\u001b[0m in \u001b[0;36mbuild_bert_model\u001b[0;34m(hp)\u001b[0m\n\u001b[1;32m     17\u001b[0m     \u001b[0mloss\u001b[0m           \u001b[0;34m=\u001b[0m \u001b[0mtf\u001b[0m\u001b[0;34m.\u001b[0m\u001b[0mkeras\u001b[0m\u001b[0;34m.\u001b[0m\u001b[0mlosses\u001b[0m\u001b[0;34m.\u001b[0m\u001b[0mSparseCategoricalCrossentropy\u001b[0m\u001b[0;34m(\u001b[0m\u001b[0mfrom_logits\u001b[0m\u001b[0;34m=\u001b[0m\u001b[0;32mTrue\u001b[0m\u001b[0;34m)\u001b[0m\u001b[0;34m\u001b[0m\u001b[0;34m\u001b[0m\u001b[0m\n\u001b[0;32m---> 18\u001b[0;31m     \u001b[0mmetric\u001b[0m         \u001b[0;34m=\u001b[0m \u001b[0mkeras\u001b[0m\u001b[0;34m.\u001b[0m\u001b[0mmetrics\u001b[0m\u001b[0;34m.\u001b[0m\u001b[0mSparseCategoricalAccuracy\u001b[0m\u001b[0;34m(\u001b[0m\u001b[0;34m'accuracy'\u001b[0m\u001b[0;34m)\u001b[0m\u001b[0;34m\u001b[0m\u001b[0;34m\u001b[0m\u001b[0m\n\u001b[0m\u001b[1;32m     19\u001b[0m \u001b[0;34m\u001b[0m\u001b[0m\n",
      "\u001b[0;32m~/anaconda3/envs/w266/lib/python3.8/site-packages/tensorflow/python/keras/metrics.py\u001b[0m in \u001b[0;36m__init__\u001b[0;34m(self, name, dtype)\u001b[0m\n\u001b[1;32m    830\u001b[0m   \u001b[0;32mdef\u001b[0m \u001b[0m__init__\u001b[0m\u001b[0;34m(\u001b[0m\u001b[0mself\u001b[0m\u001b[0;34m,\u001b[0m \u001b[0mname\u001b[0m\u001b[0;34m=\u001b[0m\u001b[0;34m'sparse_categorical_accuracy'\u001b[0m\u001b[0;34m,\u001b[0m \u001b[0mdtype\u001b[0m\u001b[0;34m=\u001b[0m\u001b[0;32mNone\u001b[0m\u001b[0;34m)\u001b[0m\u001b[0;34m:\u001b[0m\u001b[0;34m\u001b[0m\u001b[0;34m\u001b[0m\u001b[0m\n\u001b[0;32m--> 831\u001b[0;31m     super(SparseCategoricalAccuracy, self).__init__(\n\u001b[0m\u001b[1;32m    832\u001b[0m         sparse_categorical_accuracy, name, dtype=dtype)\n",
      "\u001b[0;32m~/anaconda3/envs/w266/lib/python3.8/site-packages/tensorflow/python/keras/metrics.py\u001b[0m in \u001b[0;36m__init__\u001b[0;34m(self, fn, name, dtype, **kwargs)\u001b[0m\n\u001b[1;32m    583\u001b[0m   \u001b[0;32mdef\u001b[0m \u001b[0m__init__\u001b[0m\u001b[0;34m(\u001b[0m\u001b[0mself\u001b[0m\u001b[0;34m,\u001b[0m \u001b[0mfn\u001b[0m\u001b[0;34m,\u001b[0m \u001b[0mname\u001b[0m\u001b[0;34m=\u001b[0m\u001b[0;32mNone\u001b[0m\u001b[0;34m,\u001b[0m \u001b[0mdtype\u001b[0m\u001b[0;34m=\u001b[0m\u001b[0;32mNone\u001b[0m\u001b[0;34m,\u001b[0m \u001b[0;34m**\u001b[0m\u001b[0mkwargs\u001b[0m\u001b[0;34m)\u001b[0m\u001b[0;34m:\u001b[0m\u001b[0;34m\u001b[0m\u001b[0;34m\u001b[0m\u001b[0m\n\u001b[0;32m--> 584\u001b[0;31m     \u001b[0msuper\u001b[0m\u001b[0;34m(\u001b[0m\u001b[0mMeanMetricWrapper\u001b[0m\u001b[0;34m,\u001b[0m \u001b[0mself\u001b[0m\u001b[0;34m)\u001b[0m\u001b[0;34m.\u001b[0m\u001b[0m__init__\u001b[0m\u001b[0;34m(\u001b[0m\u001b[0mname\u001b[0m\u001b[0;34m=\u001b[0m\u001b[0mname\u001b[0m\u001b[0;34m,\u001b[0m \u001b[0mdtype\u001b[0m\u001b[0;34m=\u001b[0m\u001b[0mdtype\u001b[0m\u001b[0;34m)\u001b[0m\u001b[0;34m\u001b[0m\u001b[0;34m\u001b[0m\u001b[0m\n\u001b[0m\u001b[1;32m    585\u001b[0m     \u001b[0mself\u001b[0m\u001b[0;34m.\u001b[0m\u001b[0m_fn\u001b[0m \u001b[0;34m=\u001b[0m \u001b[0mfn\u001b[0m\u001b[0;34m\u001b[0m\u001b[0;34m\u001b[0m\u001b[0m\n",
      "\u001b[0;32m~/anaconda3/envs/w266/lib/python3.8/site-packages/tensorflow/python/keras/metrics.py\u001b[0m in \u001b[0;36m__init__\u001b[0;34m(self, name, dtype)\u001b[0m\n\u001b[1;32m    487\u001b[0m   \u001b[0;32mdef\u001b[0m \u001b[0m__init__\u001b[0m\u001b[0;34m(\u001b[0m\u001b[0mself\u001b[0m\u001b[0;34m,\u001b[0m \u001b[0mname\u001b[0m\u001b[0;34m=\u001b[0m\u001b[0;34m'mean'\u001b[0m\u001b[0;34m,\u001b[0m \u001b[0mdtype\u001b[0m\u001b[0;34m=\u001b[0m\u001b[0;32mNone\u001b[0m\u001b[0;34m)\u001b[0m\u001b[0;34m:\u001b[0m\u001b[0;34m\u001b[0m\u001b[0;34m\u001b[0m\u001b[0m\n\u001b[0;32m--> 488\u001b[0;31m     super(Mean, self).__init__(\n\u001b[0m\u001b[1;32m    489\u001b[0m         reduction=metrics_utils.Reduction.WEIGHTED_MEAN, name=name, dtype=dtype)\n",
      "\u001b[0;32m~/anaconda3/envs/w266/lib/python3.8/site-packages/tensorflow/python/keras/metrics.py\u001b[0m in \u001b[0;36m__init__\u001b[0;34m(self, reduction, name, dtype)\u001b[0m\n\u001b[1;32m    334\u001b[0m     \u001b[0mself\u001b[0m\u001b[0;34m.\u001b[0m\u001b[0mreduction\u001b[0m \u001b[0;34m=\u001b[0m \u001b[0mreduction\u001b[0m\u001b[0;34m\u001b[0m\u001b[0;34m\u001b[0m\u001b[0m\n\u001b[0;32m--> 335\u001b[0;31m     self.total = self.add_weight(\n\u001b[0m\u001b[1;32m    336\u001b[0m         'total', initializer=init_ops.zeros_initializer)\n",
      "\u001b[0;32m~/anaconda3/envs/w266/lib/python3.8/site-packages/tensorflow/python/keras/metrics.py\u001b[0m in \u001b[0;36madd_weight\u001b[0;34m(self, name, shape, aggregation, synchronization, initializer, dtype)\u001b[0m\n\u001b[1;32m    305\u001b[0m     \u001b[0;32mwith\u001b[0m \u001b[0mops\u001b[0m\u001b[0;34m.\u001b[0m\u001b[0minit_scope\u001b[0m\u001b[0;34m(\u001b[0m\u001b[0;34m)\u001b[0m\u001b[0;34m:\u001b[0m\u001b[0;34m\u001b[0m\u001b[0;34m\u001b[0m\u001b[0m\n\u001b[0;32m--> 306\u001b[0;31m       return super(Metric, self).add_weight(\n\u001b[0m\u001b[1;32m    307\u001b[0m           \u001b[0mname\u001b[0m\u001b[0;34m=\u001b[0m\u001b[0mname\u001b[0m\u001b[0;34m,\u001b[0m\u001b[0;34m\u001b[0m\u001b[0;34m\u001b[0m\u001b[0m\n",
      "\u001b[0;32m~/anaconda3/envs/w266/lib/python3.8/site-packages/tensorflow/python/keras/engine/base_layer.py\u001b[0m in \u001b[0;36madd_weight\u001b[0;34m(self, name, shape, dtype, initializer, regularizer, trainable, constraint, use_resource, synchronization, aggregation, **kwargs)\u001b[0m\n\u001b[1;32m    622\u001b[0m \u001b[0;34m\u001b[0m\u001b[0m\n\u001b[0;32m--> 623\u001b[0;31m     variable = self._add_variable_with_custom_getter(\n\u001b[0m\u001b[1;32m    624\u001b[0m         \u001b[0mname\u001b[0m\u001b[0;34m=\u001b[0m\u001b[0mname\u001b[0m\u001b[0;34m,\u001b[0m\u001b[0;34m\u001b[0m\u001b[0;34m\u001b[0m\u001b[0m\n",
      "\u001b[0;32m~/anaconda3/envs/w266/lib/python3.8/site-packages/tensorflow/python/training/tracking/base.py\u001b[0m in \u001b[0;36m_add_variable_with_custom_getter\u001b[0;34m(self, name, shape, dtype, initializer, getter, overwrite, **kwargs_for_getter)\u001b[0m\n\u001b[1;32m    804\u001b[0m         \u001b[0minitializer\u001b[0m \u001b[0;34m=\u001b[0m \u001b[0mcheckpoint_initializer\u001b[0m\u001b[0;34m\u001b[0m\u001b[0;34m\u001b[0m\u001b[0m\n\u001b[0;32m--> 805\u001b[0;31m     new_variable = getter(\n\u001b[0m\u001b[1;32m    806\u001b[0m         \u001b[0mname\u001b[0m\u001b[0;34m=\u001b[0m\u001b[0mname\u001b[0m\u001b[0;34m,\u001b[0m\u001b[0;34m\u001b[0m\u001b[0;34m\u001b[0m\u001b[0m\n",
      "\u001b[0;32m~/anaconda3/envs/w266/lib/python3.8/site-packages/tensorflow/python/keras/engine/base_layer_utils.py\u001b[0m in \u001b[0;36mmake_variable\u001b[0;34m(name, shape, dtype, initializer, trainable, caching_device, validate_shape, constraint, use_resource, collections, synchronization, aggregation, partitioner)\u001b[0m\n\u001b[1;32m    129\u001b[0m   \u001b[0mvariable_shape\u001b[0m \u001b[0;34m=\u001b[0m \u001b[0mtensor_shape\u001b[0m\u001b[0;34m.\u001b[0m\u001b[0mTensorShape\u001b[0m\u001b[0;34m(\u001b[0m\u001b[0mshape\u001b[0m\u001b[0;34m)\u001b[0m\u001b[0;34m\u001b[0m\u001b[0;34m\u001b[0m\u001b[0m\n\u001b[0;32m--> 130\u001b[0;31m   return tf_variables.VariableV1(\n\u001b[0m\u001b[1;32m    131\u001b[0m       \u001b[0minitial_value\u001b[0m\u001b[0;34m=\u001b[0m\u001b[0minit_val\u001b[0m\u001b[0;34m,\u001b[0m\u001b[0;34m\u001b[0m\u001b[0;34m\u001b[0m\u001b[0m\n",
      "\u001b[0;32m~/anaconda3/envs/w266/lib/python3.8/site-packages/tensorflow/python/ops/variables.py\u001b[0m in \u001b[0;36m__call__\u001b[0;34m(cls, *args, **kwargs)\u001b[0m\n\u001b[1;32m    259\u001b[0m     \u001b[0;32mif\u001b[0m \u001b[0mcls\u001b[0m \u001b[0;32mis\u001b[0m \u001b[0mVariableV1\u001b[0m\u001b[0;34m:\u001b[0m\u001b[0;34m\u001b[0m\u001b[0;34m\u001b[0m\u001b[0m\n\u001b[0;32m--> 260\u001b[0;31m       \u001b[0;32mreturn\u001b[0m \u001b[0mcls\u001b[0m\u001b[0;34m.\u001b[0m\u001b[0m_variable_v1_call\u001b[0m\u001b[0;34m(\u001b[0m\u001b[0;34m*\u001b[0m\u001b[0margs\u001b[0m\u001b[0;34m,\u001b[0m \u001b[0;34m**\u001b[0m\u001b[0mkwargs\u001b[0m\u001b[0;34m)\u001b[0m\u001b[0;34m\u001b[0m\u001b[0;34m\u001b[0m\u001b[0m\n\u001b[0m\u001b[1;32m    261\u001b[0m     \u001b[0;32melif\u001b[0m \u001b[0mcls\u001b[0m \u001b[0;32mis\u001b[0m \u001b[0mVariable\u001b[0m\u001b[0;34m:\u001b[0m\u001b[0;34m\u001b[0m\u001b[0;34m\u001b[0m\u001b[0m\n",
      "\u001b[0;32m~/anaconda3/envs/w266/lib/python3.8/site-packages/tensorflow/python/ops/variables.py\u001b[0m in \u001b[0;36m_variable_v1_call\u001b[0;34m(cls, initial_value, trainable, collections, validate_shape, caching_device, name, variable_def, dtype, expected_shape, import_scope, constraint, use_resource, synchronization, aggregation, shape)\u001b[0m\n\u001b[1;32m    205\u001b[0m       \u001b[0maggregation\u001b[0m \u001b[0;34m=\u001b[0m \u001b[0mVariableAggregation\u001b[0m\u001b[0;34m.\u001b[0m\u001b[0mNONE\u001b[0m\u001b[0;34m\u001b[0m\u001b[0;34m\u001b[0m\u001b[0m\n\u001b[0;32m--> 206\u001b[0;31m     return previous_getter(\n\u001b[0m\u001b[1;32m    207\u001b[0m         \u001b[0minitial_value\u001b[0m\u001b[0;34m=\u001b[0m\u001b[0minitial_value\u001b[0m\u001b[0;34m,\u001b[0m\u001b[0;34m\u001b[0m\u001b[0;34m\u001b[0m\u001b[0m\n",
      "\u001b[0;32m~/anaconda3/envs/w266/lib/python3.8/site-packages/tensorflow/python/ops/variables.py\u001b[0m in \u001b[0;36m<lambda>\u001b[0;34m(**kwargs)\u001b[0m\n\u001b[1;32m    198\u001b[0m     \u001b[0;34m\"\"\"Call on Variable class. Useful to force the signature.\"\"\"\u001b[0m\u001b[0;34m\u001b[0m\u001b[0;34m\u001b[0m\u001b[0m\n\u001b[0;32m--> 199\u001b[0;31m     \u001b[0mprevious_getter\u001b[0m \u001b[0;34m=\u001b[0m \u001b[0;32mlambda\u001b[0m \u001b[0;34m**\u001b[0m\u001b[0mkwargs\u001b[0m\u001b[0;34m:\u001b[0m \u001b[0mdefault_variable_creator\u001b[0m\u001b[0;34m(\u001b[0m\u001b[0;32mNone\u001b[0m\u001b[0;34m,\u001b[0m \u001b[0;34m**\u001b[0m\u001b[0mkwargs\u001b[0m\u001b[0;34m)\u001b[0m\u001b[0;34m\u001b[0m\u001b[0;34m\u001b[0m\u001b[0m\n\u001b[0m\u001b[1;32m    200\u001b[0m     \u001b[0;32mfor\u001b[0m \u001b[0m_\u001b[0m\u001b[0;34m,\u001b[0m \u001b[0mgetter\u001b[0m \u001b[0;32min\u001b[0m \u001b[0mops\u001b[0m\u001b[0;34m.\u001b[0m\u001b[0mget_default_graph\u001b[0m\u001b[0;34m(\u001b[0m\u001b[0;34m)\u001b[0m\u001b[0;34m.\u001b[0m\u001b[0m_variable_creator_stack\u001b[0m\u001b[0;34m:\u001b[0m  \u001b[0;31m# pylint: disable=protected-access\u001b[0m\u001b[0;34m\u001b[0m\u001b[0;34m\u001b[0m\u001b[0m\n",
      "\u001b[0;32m~/anaconda3/envs/w266/lib/python3.8/site-packages/tensorflow/python/ops/variable_scope.py\u001b[0m in \u001b[0;36mdefault_variable_creator\u001b[0;34m(next_creator, **kwargs)\u001b[0m\n\u001b[1;32m   2603\u001b[0m     \u001b[0mdistribute_strategy\u001b[0m \u001b[0;34m=\u001b[0m \u001b[0mkwargs\u001b[0m\u001b[0;34m.\u001b[0m\u001b[0mget\u001b[0m\u001b[0;34m(\u001b[0m\u001b[0;34m\"distribute_strategy\"\u001b[0m\u001b[0;34m,\u001b[0m \u001b[0;32mNone\u001b[0m\u001b[0;34m)\u001b[0m\u001b[0;34m\u001b[0m\u001b[0;34m\u001b[0m\u001b[0m\n\u001b[0;32m-> 2604\u001b[0;31m     return resource_variable_ops.ResourceVariable(\n\u001b[0m\u001b[1;32m   2605\u001b[0m         \u001b[0minitial_value\u001b[0m\u001b[0;34m=\u001b[0m\u001b[0minitial_value\u001b[0m\u001b[0;34m,\u001b[0m\u001b[0;34m\u001b[0m\u001b[0;34m\u001b[0m\u001b[0m\n",
      "\u001b[0;32m~/anaconda3/envs/w266/lib/python3.8/site-packages/tensorflow/python/ops/variables.py\u001b[0m in \u001b[0;36m__call__\u001b[0;34m(cls, *args, **kwargs)\u001b[0m\n\u001b[1;32m    263\u001b[0m     \u001b[0;32melse\u001b[0m\u001b[0;34m:\u001b[0m\u001b[0;34m\u001b[0m\u001b[0;34m\u001b[0m\u001b[0m\n\u001b[0;32m--> 264\u001b[0;31m       \u001b[0;32mreturn\u001b[0m \u001b[0msuper\u001b[0m\u001b[0;34m(\u001b[0m\u001b[0mVariableMetaclass\u001b[0m\u001b[0;34m,\u001b[0m \u001b[0mcls\u001b[0m\u001b[0;34m)\u001b[0m\u001b[0;34m.\u001b[0m\u001b[0m__call__\u001b[0m\u001b[0;34m(\u001b[0m\u001b[0;34m*\u001b[0m\u001b[0margs\u001b[0m\u001b[0;34m,\u001b[0m \u001b[0;34m**\u001b[0m\u001b[0mkwargs\u001b[0m\u001b[0;34m)\u001b[0m\u001b[0;34m\u001b[0m\u001b[0;34m\u001b[0m\u001b[0m\n\u001b[0m\u001b[1;32m    265\u001b[0m \u001b[0;34m\u001b[0m\u001b[0m\n",
      "\u001b[0;32m~/anaconda3/envs/w266/lib/python3.8/site-packages/tensorflow/python/ops/resource_variable_ops.py\u001b[0m in \u001b[0;36m__init__\u001b[0;34m(self, initial_value, trainable, collections, validate_shape, caching_device, name, dtype, variable_def, import_scope, constraint, distribute_strategy, synchronization, aggregation, shape)\u001b[0m\n\u001b[1;32m   1573\u001b[0m     \u001b[0;32melse\u001b[0m\u001b[0;34m:\u001b[0m\u001b[0;34m\u001b[0m\u001b[0;34m\u001b[0m\u001b[0m\n\u001b[0;32m-> 1574\u001b[0;31m       self._init_from_args(\n\u001b[0m\u001b[1;32m   1575\u001b[0m           \u001b[0minitial_value\u001b[0m\u001b[0;34m=\u001b[0m\u001b[0minitial_value\u001b[0m\u001b[0;34m,\u001b[0m\u001b[0;34m\u001b[0m\u001b[0;34m\u001b[0m\u001b[0m\n",
      "\u001b[0;32m~/anaconda3/envs/w266/lib/python3.8/site-packages/tensorflow/python/ops/resource_variable_ops.py\u001b[0m in \u001b[0;36m_init_from_args\u001b[0;34m(self, initial_value, trainable, collections, caching_device, name, dtype, constraint, synchronization, aggregation, distribute_strategy, shape)\u001b[0m\n\u001b[1;32m   1711\u001b[0m             \u001b[0;32mif\u001b[0m \u001b[0minit_from_fn\u001b[0m\u001b[0;34m:\u001b[0m\u001b[0;34m\u001b[0m\u001b[0;34m\u001b[0m\u001b[0m\n\u001b[0;32m-> 1712\u001b[0;31m               \u001b[0minitial_value\u001b[0m \u001b[0;34m=\u001b[0m \u001b[0minitial_value\u001b[0m\u001b[0;34m(\u001b[0m\u001b[0;34m)\u001b[0m\u001b[0;34m\u001b[0m\u001b[0;34m\u001b[0m\u001b[0m\n\u001b[0m\u001b[1;32m   1713\u001b[0m             \u001b[0;32mif\u001b[0m \u001b[0misinstance\u001b[0m\u001b[0;34m(\u001b[0m\u001b[0minitial_value\u001b[0m\u001b[0;34m,\u001b[0m \u001b[0mtrackable\u001b[0m\u001b[0;34m.\u001b[0m\u001b[0mCheckpointInitialValue\u001b[0m\u001b[0;34m)\u001b[0m\u001b[0;34m:\u001b[0m\u001b[0;34m\u001b[0m\u001b[0;34m\u001b[0m\u001b[0m\n",
      "\u001b[0;32m~/anaconda3/envs/w266/lib/python3.8/site-packages/tensorflow/python/ops/init_ops.py\u001b[0m in \u001b[0;36m__call__\u001b[0;34m(self, shape, dtype, partition_info)\u001b[0m\n\u001b[1;32m    113\u001b[0m       \u001b[0mdtype\u001b[0m \u001b[0;34m=\u001b[0m \u001b[0mself\u001b[0m\u001b[0;34m.\u001b[0m\u001b[0mdtype\u001b[0m\u001b[0;34m\u001b[0m\u001b[0;34m\u001b[0m\u001b[0m\n\u001b[0;32m--> 114\u001b[0;31m     \u001b[0;32mreturn\u001b[0m \u001b[0marray_ops\u001b[0m\u001b[0;34m.\u001b[0m\u001b[0mzeros\u001b[0m\u001b[0;34m(\u001b[0m\u001b[0mshape\u001b[0m\u001b[0;34m,\u001b[0m \u001b[0mdtype\u001b[0m\u001b[0;34m)\u001b[0m\u001b[0;34m\u001b[0m\u001b[0;34m\u001b[0m\u001b[0m\n\u001b[0m\u001b[1;32m    115\u001b[0m \u001b[0;34m\u001b[0m\u001b[0m\n",
      "\u001b[0;32m~/anaconda3/envs/w266/lib/python3.8/site-packages/tensorflow/python/util/dispatch.py\u001b[0m in \u001b[0;36mwrapper\u001b[0;34m(*args, **kwargs)\u001b[0m\n\u001b[1;32m    200\u001b[0m     \u001b[0;32mtry\u001b[0m\u001b[0;34m:\u001b[0m\u001b[0;34m\u001b[0m\u001b[0;34m\u001b[0m\u001b[0m\n\u001b[0;32m--> 201\u001b[0;31m       \u001b[0;32mreturn\u001b[0m \u001b[0mtarget\u001b[0m\u001b[0;34m(\u001b[0m\u001b[0;34m*\u001b[0m\u001b[0margs\u001b[0m\u001b[0;34m,\u001b[0m \u001b[0;34m**\u001b[0m\u001b[0mkwargs\u001b[0m\u001b[0;34m)\u001b[0m\u001b[0;34m\u001b[0m\u001b[0;34m\u001b[0m\u001b[0m\n\u001b[0m\u001b[1;32m    202\u001b[0m     \u001b[0;32mexcept\u001b[0m \u001b[0;34m(\u001b[0m\u001b[0mTypeError\u001b[0m\u001b[0;34m,\u001b[0m \u001b[0mValueError\u001b[0m\u001b[0;34m)\u001b[0m\u001b[0;34m:\u001b[0m\u001b[0;34m\u001b[0m\u001b[0;34m\u001b[0m\u001b[0m\n",
      "\u001b[0;32m~/anaconda3/envs/w266/lib/python3.8/site-packages/tensorflow/python/ops/array_ops.py\u001b[0m in \u001b[0;36mwrapped\u001b[0;34m(*args, **kwargs)\u001b[0m\n\u001b[1;32m   2818\u001b[0m   \u001b[0;32mdef\u001b[0m \u001b[0mwrapped\u001b[0m\u001b[0;34m(\u001b[0m\u001b[0;34m*\u001b[0m\u001b[0margs\u001b[0m\u001b[0;34m,\u001b[0m \u001b[0;34m**\u001b[0m\u001b[0mkwargs\u001b[0m\u001b[0;34m)\u001b[0m\u001b[0;34m:\u001b[0m\u001b[0;34m\u001b[0m\u001b[0;34m\u001b[0m\u001b[0m\n\u001b[0;32m-> 2819\u001b[0;31m     \u001b[0mtensor\u001b[0m \u001b[0;34m=\u001b[0m \u001b[0mfun\u001b[0m\u001b[0;34m(\u001b[0m\u001b[0;34m*\u001b[0m\u001b[0margs\u001b[0m\u001b[0;34m,\u001b[0m \u001b[0;34m**\u001b[0m\u001b[0mkwargs\u001b[0m\u001b[0;34m)\u001b[0m\u001b[0;34m\u001b[0m\u001b[0;34m\u001b[0m\u001b[0m\n\u001b[0m\u001b[1;32m   2820\u001b[0m     \u001b[0mtensor\u001b[0m\u001b[0;34m.\u001b[0m\u001b[0m_is_zeros_tensor\u001b[0m \u001b[0;34m=\u001b[0m \u001b[0;32mTrue\u001b[0m\u001b[0;34m\u001b[0m\u001b[0;34m\u001b[0m\u001b[0m\n",
      "\u001b[0;32m~/anaconda3/envs/w266/lib/python3.8/site-packages/tensorflow/python/ops/array_ops.py\u001b[0m in \u001b[0;36mzeros\u001b[0;34m(shape, dtype, name)\u001b[0m\n\u001b[1;32m   2872\u001b[0m         \u001b[0;31m# Go through tensor shapes to get int64-if-needed semantics\u001b[0m\u001b[0;34m\u001b[0m\u001b[0;34m\u001b[0m\u001b[0;34m\u001b[0m\u001b[0m\n\u001b[0;32m-> 2873\u001b[0;31m         shape = constant_op._tensor_shape_tensor_conversion_function(\n\u001b[0m\u001b[1;32m   2874\u001b[0m             tensor_shape.TensorShape(shape))\n",
      "\u001b[0;32m~/anaconda3/envs/w266/lib/python3.8/site-packages/tensorflow/python/framework/constant_op.py\u001b[0m in \u001b[0;36m_tensor_shape_tensor_conversion_function\u001b[0;34m(s, dtype, name, as_ref)\u001b[0m\n\u001b[1;32m    373\u001b[0m     \u001b[0mname\u001b[0m \u001b[0;34m=\u001b[0m \u001b[0;34m\"shape_as_tensor\"\u001b[0m\u001b[0;34m\u001b[0m\u001b[0;34m\u001b[0m\u001b[0m\n\u001b[0;32m--> 374\u001b[0;31m   \u001b[0;32mreturn\u001b[0m \u001b[0mconstant\u001b[0m\u001b[0;34m(\u001b[0m\u001b[0ms_list\u001b[0m\u001b[0;34m,\u001b[0m \u001b[0mdtype\u001b[0m\u001b[0;34m=\u001b[0m\u001b[0mdtype\u001b[0m\u001b[0;34m,\u001b[0m \u001b[0mname\u001b[0m\u001b[0;34m=\u001b[0m\u001b[0mname\u001b[0m\u001b[0;34m)\u001b[0m\u001b[0;34m\u001b[0m\u001b[0;34m\u001b[0m\u001b[0m\n\u001b[0m\u001b[1;32m    375\u001b[0m \u001b[0;34m\u001b[0m\u001b[0m\n",
      "\u001b[0;32m~/anaconda3/envs/w266/lib/python3.8/site-packages/tensorflow/python/framework/constant_op.py\u001b[0m in \u001b[0;36mconstant\u001b[0;34m(value, dtype, shape, name)\u001b[0m\n\u001b[1;32m    263\u001b[0m   \"\"\"\n\u001b[0;32m--> 264\u001b[0;31m   return _constant_impl(value, dtype, shape, name, verify_shape=False,\n\u001b[0m\u001b[1;32m    265\u001b[0m                         allow_broadcast=True)\n",
      "\u001b[0;32m~/anaconda3/envs/w266/lib/python3.8/site-packages/tensorflow/python/framework/constant_op.py\u001b[0m in \u001b[0;36m_constant_impl\u001b[0;34m(value, dtype, shape, name, verify_shape, allow_broadcast)\u001b[0m\n\u001b[1;32m    275\u001b[0m         \u001b[0;32mreturn\u001b[0m \u001b[0m_constant_eager_impl\u001b[0m\u001b[0;34m(\u001b[0m\u001b[0mctx\u001b[0m\u001b[0;34m,\u001b[0m \u001b[0mvalue\u001b[0m\u001b[0;34m,\u001b[0m \u001b[0mdtype\u001b[0m\u001b[0;34m,\u001b[0m \u001b[0mshape\u001b[0m\u001b[0;34m,\u001b[0m \u001b[0mverify_shape\u001b[0m\u001b[0;34m)\u001b[0m\u001b[0;34m\u001b[0m\u001b[0;34m\u001b[0m\u001b[0m\n\u001b[0;32m--> 276\u001b[0;31m     \u001b[0;32mreturn\u001b[0m \u001b[0m_constant_eager_impl\u001b[0m\u001b[0;34m(\u001b[0m\u001b[0mctx\u001b[0m\u001b[0;34m,\u001b[0m \u001b[0mvalue\u001b[0m\u001b[0;34m,\u001b[0m \u001b[0mdtype\u001b[0m\u001b[0;34m,\u001b[0m \u001b[0mshape\u001b[0m\u001b[0;34m,\u001b[0m \u001b[0mverify_shape\u001b[0m\u001b[0;34m)\u001b[0m\u001b[0;34m\u001b[0m\u001b[0;34m\u001b[0m\u001b[0m\n\u001b[0m\u001b[1;32m    277\u001b[0m \u001b[0;34m\u001b[0m\u001b[0m\n",
      "\u001b[0;32m~/anaconda3/envs/w266/lib/python3.8/site-packages/tensorflow/python/framework/constant_op.py\u001b[0m in \u001b[0;36m_constant_eager_impl\u001b[0;34m(ctx, value, dtype, shape, verify_shape)\u001b[0m\n\u001b[1;32m    300\u001b[0m   \u001b[0;34m\"\"\"Implementation of eager constant.\"\"\"\u001b[0m\u001b[0;34m\u001b[0m\u001b[0;34m\u001b[0m\u001b[0m\n\u001b[0;32m--> 301\u001b[0;31m   \u001b[0mt\u001b[0m \u001b[0;34m=\u001b[0m \u001b[0mconvert_to_eager_tensor\u001b[0m\u001b[0;34m(\u001b[0m\u001b[0mvalue\u001b[0m\u001b[0;34m,\u001b[0m \u001b[0mctx\u001b[0m\u001b[0;34m,\u001b[0m \u001b[0mdtype\u001b[0m\u001b[0;34m)\u001b[0m\u001b[0;34m\u001b[0m\u001b[0;34m\u001b[0m\u001b[0m\n\u001b[0m\u001b[1;32m    302\u001b[0m   \u001b[0;32mif\u001b[0m \u001b[0mshape\u001b[0m \u001b[0;32mis\u001b[0m \u001b[0;32mNone\u001b[0m\u001b[0;34m:\u001b[0m\u001b[0;34m\u001b[0m\u001b[0;34m\u001b[0m\u001b[0m\n",
      "\u001b[0;32m~/anaconda3/envs/w266/lib/python3.8/site-packages/tensorflow/python/framework/constant_op.py\u001b[0m in \u001b[0;36mconvert_to_eager_tensor\u001b[0;34m(value, ctx, dtype)\u001b[0m\n\u001b[1;32m     96\u001b[0m       \u001b[0mdtype\u001b[0m \u001b[0;34m=\u001b[0m \u001b[0mdtypes\u001b[0m\u001b[0;34m.\u001b[0m\u001b[0mas_dtype\u001b[0m\u001b[0;34m(\u001b[0m\u001b[0mdtype\u001b[0m\u001b[0;34m)\u001b[0m\u001b[0;34m.\u001b[0m\u001b[0mas_datatype_enum\u001b[0m\u001b[0;34m\u001b[0m\u001b[0;34m\u001b[0m\u001b[0m\n\u001b[0;32m---> 97\u001b[0;31m   \u001b[0mctx\u001b[0m\u001b[0;34m.\u001b[0m\u001b[0mensure_initialized\u001b[0m\u001b[0;34m(\u001b[0m\u001b[0;34m)\u001b[0m\u001b[0;34m\u001b[0m\u001b[0;34m\u001b[0m\u001b[0m\n\u001b[0m\u001b[1;32m     98\u001b[0m   \u001b[0;32mreturn\u001b[0m \u001b[0mops\u001b[0m\u001b[0;34m.\u001b[0m\u001b[0mEagerTensor\u001b[0m\u001b[0;34m(\u001b[0m\u001b[0mvalue\u001b[0m\u001b[0;34m,\u001b[0m \u001b[0mctx\u001b[0m\u001b[0;34m.\u001b[0m\u001b[0mdevice_name\u001b[0m\u001b[0;34m,\u001b[0m \u001b[0mdtype\u001b[0m\u001b[0;34m)\u001b[0m\u001b[0;34m\u001b[0m\u001b[0;34m\u001b[0m\u001b[0m\n",
      "\u001b[0;32m~/anaconda3/envs/w266/lib/python3.8/site-packages/tensorflow/python/eager/context.py\u001b[0m in \u001b[0;36mensure_initialized\u001b[0;34m(self)\u001b[0m\n\u001b[1;32m    525\u001b[0m           \u001b[0mpywrap_tfe\u001b[0m\u001b[0;34m.\u001b[0m\u001b[0mTFE_ContextOptionsSetTfrt\u001b[0m\u001b[0;34m(\u001b[0m\u001b[0mopts\u001b[0m\u001b[0;34m,\u001b[0m \u001b[0mself\u001b[0m\u001b[0;34m.\u001b[0m\u001b[0m_use_tfrt\u001b[0m\u001b[0;34m)\u001b[0m\u001b[0;34m\u001b[0m\u001b[0;34m\u001b[0m\u001b[0m\n\u001b[0;32m--> 526\u001b[0;31m         \u001b[0mcontext_handle\u001b[0m \u001b[0;34m=\u001b[0m \u001b[0mpywrap_tfe\u001b[0m\u001b[0;34m.\u001b[0m\u001b[0mTFE_NewContext\u001b[0m\u001b[0;34m(\u001b[0m\u001b[0mopts\u001b[0m\u001b[0;34m)\u001b[0m\u001b[0;34m\u001b[0m\u001b[0;34m\u001b[0m\u001b[0m\n\u001b[0m\u001b[1;32m    527\u001b[0m       \u001b[0;32mfinally\u001b[0m\u001b[0;34m:\u001b[0m\u001b[0;34m\u001b[0m\u001b[0;34m\u001b[0m\u001b[0m\n",
      "\u001b[0;31mInternalError\u001b[0m: CUDA runtime implicit initialization on GPU:0 failed. Status: out of memory",
      "\nDuring handling of the above exception, another exception occurred:\n",
      "\u001b[0;31mRuntimeError\u001b[0m                              Traceback (most recent call last)",
      "\u001b[0;32m<ipython-input-13-02af5ba4d2dd>\u001b[0m in \u001b[0;36m<module>\u001b[0;34m\u001b[0m\n\u001b[1;32m      6\u001b[0m \u001b[0mlog_dir\u001b[0m\u001b[0;34m=\u001b[0m\u001b[0;34m'./tb_bert_tuner/'\u001b[0m\u001b[0;34m+\u001b[0m \u001b[0mruntag\u001b[0m\u001b[0;34m\u001b[0m\u001b[0;34m\u001b[0m\u001b[0m\n\u001b[1;32m      7\u001b[0m \u001b[0;34m\u001b[0m\u001b[0m\n\u001b[0;32m----> 8\u001b[0;31m tuner = kt.tuners.BayesianOptimization(\n\u001b[0m\u001b[1;32m      9\u001b[0m     \u001b[0mbuild_bert_model\u001b[0m\u001b[0;34m,\u001b[0m\u001b[0;34m\u001b[0m\u001b[0;34m\u001b[0m\u001b[0m\n\u001b[1;32m     10\u001b[0m     \u001b[0mobjective\u001b[0m\u001b[0;34m=\u001b[0m\u001b[0;34m'val_accuracy'\u001b[0m\u001b[0;34m,\u001b[0m\u001b[0;34m\u001b[0m\u001b[0;34m\u001b[0m\u001b[0m\n",
      "\u001b[0;32m~/anaconda3/envs/w266/lib/python3.8/site-packages/kerastuner/tuners/bayesian.py\u001b[0m in \u001b[0;36m__init__\u001b[0;34m(self, hypermodel, objective, max_trials, num_initial_points, alpha, beta, seed, hyperparameters, tune_new_entries, allow_new_entries, **kwargs)\u001b[0m\n\u001b[1;32m    298\u001b[0m             \u001b[0mtune_new_entries\u001b[0m\u001b[0;34m=\u001b[0m\u001b[0mtune_new_entries\u001b[0m\u001b[0;34m,\u001b[0m\u001b[0;34m\u001b[0m\u001b[0;34m\u001b[0m\u001b[0m\n\u001b[1;32m    299\u001b[0m             allow_new_entries=allow_new_entries)\n\u001b[0;32m--> 300\u001b[0;31m         super(BayesianOptimization, self, ).__init__(oracle=oracle,\n\u001b[0m\u001b[1;32m    301\u001b[0m                                                      \u001b[0mhypermodel\u001b[0m\u001b[0;34m=\u001b[0m\u001b[0mhypermodel\u001b[0m\u001b[0;34m,\u001b[0m\u001b[0;34m\u001b[0m\u001b[0;34m\u001b[0m\u001b[0m\n\u001b[1;32m    302\u001b[0m                                                      **kwargs)\n",
      "\u001b[0;32m~/anaconda3/envs/w266/lib/python3.8/site-packages/kerastuner/engine/multi_execution_tuner.py\u001b[0m in \u001b[0;36m__init__\u001b[0;34m(self, oracle, hypermodel, executions_per_trial, **kwargs)\u001b[0m\n\u001b[1;32m     56\u001b[0m                  \u001b[0mexecutions_per_trial\u001b[0m\u001b[0;34m=\u001b[0m\u001b[0;36m1\u001b[0m\u001b[0;34m,\u001b[0m\u001b[0;34m\u001b[0m\u001b[0;34m\u001b[0m\u001b[0m\n\u001b[1;32m     57\u001b[0m                  **kwargs):\n\u001b[0;32m---> 58\u001b[0;31m         super(MultiExecutionTuner, self).__init__(\n\u001b[0m\u001b[1;32m     59\u001b[0m             oracle, hypermodel, **kwargs)\n\u001b[1;32m     60\u001b[0m         \u001b[0;32mif\u001b[0m \u001b[0misinstance\u001b[0m\u001b[0;34m(\u001b[0m\u001b[0moracle\u001b[0m\u001b[0;34m.\u001b[0m\u001b[0mobjective\u001b[0m\u001b[0;34m,\u001b[0m \u001b[0mlist\u001b[0m\u001b[0;34m)\u001b[0m\u001b[0;34m:\u001b[0m\u001b[0;34m\u001b[0m\u001b[0;34m\u001b[0m\u001b[0m\n",
      "\u001b[0;32m~/anaconda3/envs/w266/lib/python3.8/site-packages/kerastuner/engine/tuner.py\u001b[0m in \u001b[0;36m__init__\u001b[0;34m(self, oracle, hypermodel, max_model_size, optimizer, loss, metrics, distribution_strategy, directory, project_name, logger, tuner_id, overwrite)\u001b[0m\n\u001b[1;32m     98\u001b[0m                 distribution_strategy=distribution_strategy)\n\u001b[1;32m     99\u001b[0m \u001b[0;34m\u001b[0m\u001b[0m\n\u001b[0;32m--> 100\u001b[0;31m         super(Tuner, self).__init__(oracle=oracle,\n\u001b[0m\u001b[1;32m    101\u001b[0m                                     \u001b[0mhypermodel\u001b[0m\u001b[0;34m=\u001b[0m\u001b[0mhypermodel\u001b[0m\u001b[0;34m,\u001b[0m\u001b[0;34m\u001b[0m\u001b[0;34m\u001b[0m\u001b[0m\n\u001b[1;32m    102\u001b[0m                                     \u001b[0mdirectory\u001b[0m\u001b[0;34m=\u001b[0m\u001b[0mdirectory\u001b[0m\u001b[0;34m,\u001b[0m\u001b[0;34m\u001b[0m\u001b[0;34m\u001b[0m\u001b[0m\n",
      "\u001b[0;32m~/anaconda3/envs/w266/lib/python3.8/site-packages/kerastuner/engine/base_tuner.py\u001b[0m in \u001b[0;36m__init__\u001b[0;34m(self, oracle, hypermodel, directory, project_name, logger, overwrite)\u001b[0m\n\u001b[1;32m     88\u001b[0m         \u001b[0mself\u001b[0m\u001b[0;34m.\u001b[0m\u001b[0m_display\u001b[0m \u001b[0;34m=\u001b[0m \u001b[0mtuner_utils\u001b[0m\u001b[0;34m.\u001b[0m\u001b[0mDisplay\u001b[0m\u001b[0;34m(\u001b[0m\u001b[0moracle\u001b[0m\u001b[0;34m=\u001b[0m\u001b[0mself\u001b[0m\u001b[0;34m.\u001b[0m\u001b[0moracle\u001b[0m\u001b[0;34m)\u001b[0m\u001b[0;34m\u001b[0m\u001b[0;34m\u001b[0m\u001b[0m\n\u001b[1;32m     89\u001b[0m \u001b[0;34m\u001b[0m\u001b[0m\n\u001b[0;32m---> 90\u001b[0;31m         \u001b[0mself\u001b[0m\u001b[0;34m.\u001b[0m\u001b[0m_populate_initial_space\u001b[0m\u001b[0;34m(\u001b[0m\u001b[0;34m)\u001b[0m\u001b[0;34m\u001b[0m\u001b[0;34m\u001b[0m\u001b[0m\n\u001b[0m\u001b[1;32m     91\u001b[0m \u001b[0;34m\u001b[0m\u001b[0m\n\u001b[1;32m     92\u001b[0m         \u001b[0;32mif\u001b[0m \u001b[0;32mnot\u001b[0m \u001b[0moverwrite\u001b[0m \u001b[0;32mand\u001b[0m \u001b[0mtf\u001b[0m\u001b[0;34m.\u001b[0m\u001b[0mio\u001b[0m\u001b[0;34m.\u001b[0m\u001b[0mgfile\u001b[0m\u001b[0;34m.\u001b[0m\u001b[0mexists\u001b[0m\u001b[0;34m(\u001b[0m\u001b[0mself\u001b[0m\u001b[0;34m.\u001b[0m\u001b[0m_get_tuner_fname\u001b[0m\u001b[0;34m(\u001b[0m\u001b[0;34m)\u001b[0m\u001b[0;34m)\u001b[0m\u001b[0;34m:\u001b[0m\u001b[0;34m\u001b[0m\u001b[0;34m\u001b[0m\u001b[0m\n",
      "\u001b[0;32m~/anaconda3/envs/w266/lib/python3.8/site-packages/kerastuner/engine/base_tuner.py\u001b[0m in \u001b[0;36m_populate_initial_space\u001b[0;34m(self)\u001b[0m\n\u001b[1;32m    103\u001b[0m         \"\"\"\n\u001b[1;32m    104\u001b[0m         \u001b[0mhp\u001b[0m \u001b[0;34m=\u001b[0m \u001b[0mself\u001b[0m\u001b[0;34m.\u001b[0m\u001b[0moracle\u001b[0m\u001b[0;34m.\u001b[0m\u001b[0mget_space\u001b[0m\u001b[0;34m(\u001b[0m\u001b[0;34m)\u001b[0m\u001b[0;34m\u001b[0m\u001b[0;34m\u001b[0m\u001b[0m\n\u001b[0;32m--> 105\u001b[0;31m         \u001b[0mself\u001b[0m\u001b[0;34m.\u001b[0m\u001b[0mhypermodel\u001b[0m\u001b[0;34m.\u001b[0m\u001b[0mbuild\u001b[0m\u001b[0;34m(\u001b[0m\u001b[0mhp\u001b[0m\u001b[0;34m)\u001b[0m\u001b[0;34m\u001b[0m\u001b[0;34m\u001b[0m\u001b[0m\n\u001b[0m\u001b[1;32m    106\u001b[0m         \u001b[0mself\u001b[0m\u001b[0;34m.\u001b[0m\u001b[0moracle\u001b[0m\u001b[0;34m.\u001b[0m\u001b[0mupdate_space\u001b[0m\u001b[0;34m(\u001b[0m\u001b[0mhp\u001b[0m\u001b[0;34m)\u001b[0m\u001b[0;34m\u001b[0m\u001b[0;34m\u001b[0m\u001b[0m\n\u001b[1;32m    107\u001b[0m \u001b[0;34m\u001b[0m\u001b[0m\n",
      "\u001b[0;32m~/anaconda3/envs/w266/lib/python3.8/site-packages/kerastuner/engine/hypermodel.py\u001b[0m in \u001b[0;36m_build_wrapper\u001b[0;34m(self, hp, *args, **kwargs)\u001b[0m\n\u001b[1;32m     62\u001b[0m             \u001b[0;31m# to the search space.\u001b[0m\u001b[0;34m\u001b[0m\u001b[0;34m\u001b[0m\u001b[0;34m\u001b[0m\u001b[0m\n\u001b[1;32m     63\u001b[0m             \u001b[0mhp\u001b[0m \u001b[0;34m=\u001b[0m \u001b[0mhp\u001b[0m\u001b[0;34m.\u001b[0m\u001b[0mcopy\u001b[0m\u001b[0;34m(\u001b[0m\u001b[0;34m)\u001b[0m\u001b[0;34m\u001b[0m\u001b[0;34m\u001b[0m\u001b[0m\n\u001b[0;32m---> 64\u001b[0;31m         \u001b[0;32mreturn\u001b[0m \u001b[0mself\u001b[0m\u001b[0;34m.\u001b[0m\u001b[0m_build\u001b[0m\u001b[0;34m(\u001b[0m\u001b[0mhp\u001b[0m\u001b[0;34m,\u001b[0m \u001b[0;34m*\u001b[0m\u001b[0margs\u001b[0m\u001b[0;34m,\u001b[0m \u001b[0;34m**\u001b[0m\u001b[0mkwargs\u001b[0m\u001b[0;34m)\u001b[0m\u001b[0;34m\u001b[0m\u001b[0;34m\u001b[0m\u001b[0m\n\u001b[0m\u001b[1;32m     65\u001b[0m \u001b[0;34m\u001b[0m\u001b[0m\n\u001b[1;32m     66\u001b[0m \u001b[0;34m\u001b[0m\u001b[0m\n",
      "\u001b[0;32m~/anaconda3/envs/w266/lib/python3.8/site-packages/kerastuner/engine/hypermodel.py\u001b[0m in \u001b[0;36mbuild\u001b[0;34m(self, hp)\u001b[0m\n\u001b[1;32m    110\u001b[0m \u001b[0;34m\u001b[0m\u001b[0m\n\u001b[1;32m    111\u001b[0m                 \u001b[0;32mif\u001b[0m \u001b[0mi\u001b[0m \u001b[0;34m==\u001b[0m \u001b[0mself\u001b[0m\u001b[0;34m.\u001b[0m\u001b[0m_max_fail_streak\u001b[0m\u001b[0;34m:\u001b[0m\u001b[0;34m\u001b[0m\u001b[0;34m\u001b[0m\u001b[0m\n\u001b[0;32m--> 112\u001b[0;31m                     raise RuntimeError(\n\u001b[0m\u001b[1;32m    113\u001b[0m                         'Too many failed attempts to build model.')\n\u001b[1;32m    114\u001b[0m                 \u001b[0;32mcontinue\u001b[0m\u001b[0;34m\u001b[0m\u001b[0;34m\u001b[0m\u001b[0m\n",
      "\u001b[0;31mRuntimeError\u001b[0m: Too many failed attempts to build model."
     ]
    }
   ],
   "source": [
    "# Create the tuner object\n",
    "#\n",
    "# There are two options, RandomSearch and Hyperband.\n",
    "\n",
    "runtag = datetime.datetime.now().strftime(\"%y%m%d-%H%M%S\")\n",
    "log_dir='./tb_bert_tuner/'+ runtag\n",
    "\n",
    "tuner = kt.tuners.BayesianOptimization(\n",
    "    build_bert_model,\n",
    "    objective='val_accuracy',\n",
    "    max_trials=10,\n",
    "    executions_per_trial=5,\n",
    "    directory=log_dir,\n",
    "    project_name='BertTunerRandom')\n"
   ]
  },
  {
   "cell_type": "markdown",
   "id": "indirect-learning",
   "metadata": {},
   "source": [
    "## Step 6: Create Callbacks\n",
    "\n",
    "Adding a new callback here, keras.callbacks.EarlyStopping(). This stops after the monitored metric (usually loss) stops improving.  The $patience$ term is the number of epochs that will be executed without improvement before stopping to allow for possible oscilation."
   ]
  },
  {
   "cell_type": "code",
   "execution_count": null,
   "id": "boring-cornell",
   "metadata": {},
   "outputs": [],
   "source": [
    "runtag = datetime.datetime.now().strftime(\"%y%m%d-%H%M%S\")\n",
    "\n",
    "log_dir='./dtb_bert/'+ runtag\n",
    "\n",
    "model_save_path='../models/distilbert_keras_tuner/' + runtag\n",
    "\n",
    "## Create Callback list\n",
    "callbacks = [keras.callbacks.ModelCheckpoint(filepath=model_save_path,\n",
    "                                             save_weights_only=False,\n",
    "                                             monitor='val_loss',\n",
    "                                             mode='min',\n",
    "                                             save_best_only=True),\n",
    "             keras.callbacks.EarlyStopping(monitor='loss', patience=3),\n",
    "             keras.callbacks.TensorBoard(log_dir=log_dir)]\n"
   ]
  },
  {
   "cell_type": "markdown",
   "id": "iraqi-extreme",
   "metadata": {},
   "source": [
    "## Step 7: Run the Optimizer\n",
    "\n",
    "Tuner.search() has the same signature (parameters) as keras.Model.fit()."
   ]
  },
  {
   "cell_type": "code",
   "execution_count": null,
   "id": "olive-excitement",
   "metadata": {
    "scrolled": false
   },
   "outputs": [],
   "source": [
    "tuner.search([train_ids,train_attn],\n",
    "             train_labels,\n",
    "             batch_size=24,\n",
    "             epochs=10,\n",
    "             validation_data=([val_ids,val_attn],val_labels),\n",
    "             callbacks=callbacks)"
   ]
  },
  {
   "cell_type": "code",
   "execution_count": null,
   "id": "raising-ghana",
   "metadata": {},
   "outputs": [],
   "source": [
    "best_model = tuner.get_best_models(1)[0]"
   ]
  },
  {
   "cell_type": "code",
   "execution_count": null,
   "id": "quiet-richmond",
   "metadata": {},
   "outputs": [],
   "source": [
    "best_hyperameters = tuner.get_Best_hyperparameters(1)[0]"
   ]
  },
  {
   "cell_type": "code",
   "execution_count": null,
   "id": "american-teaching",
   "metadata": {},
   "outputs": [],
   "source": [
    "tuner.results_summary()"
   ]
  },
  {
   "cell_type": "markdown",
   "id": "sized-ladder",
   "metadata": {},
   "source": [
    "## References used\n",
    "BERT Text Classification using Keras https://swatimeena989.medium.com/bert-text-classification-using-keras-903671e0207d#2f06\n",
    "Keras Tuner blog: https://blog.tensorflow.org/2020/01/hyperparameter-tuning-with-keras-tuner.html\n",
    "Keras Tuner Git:  https://github.com/keras-team/keras-tuner"
   ]
  },
  {
   "cell_type": "markdown",
   "id": "welcome-technician",
   "metadata": {},
   "source": [
    "@misc{omalley2019kerastuner,\n",
    "\ttitle        = {Keras {Tuner}},\n",
    "\tauthor       = {O'Malley, Tom and Bursztein, Elie and Long, James and Chollet, Fran\\c{c}ois and Jin, Haifeng and Invernizzi, Luca and others},\n",
    "\tyear         = 2019,\n",
    "\thowpublished = {\\url{https://github.com/keras-team/keras-tuner}}\n",
    "}"
   ]
  }
 ],
 "metadata": {
  "kernelspec": {
   "display_name": "Python 3",
   "language": "python",
   "name": "python3"
  },
  "language_info": {
   "codemirror_mode": {
    "name": "ipython",
    "version": 3
   },
   "file_extension": ".py",
   "mimetype": "text/x-python",
   "name": "python",
   "nbconvert_exporter": "python",
   "pygments_lexer": "ipython3",
   "version": "3.8.2"
  }
 },
 "nbformat": 4,
 "nbformat_minor": 5
}
