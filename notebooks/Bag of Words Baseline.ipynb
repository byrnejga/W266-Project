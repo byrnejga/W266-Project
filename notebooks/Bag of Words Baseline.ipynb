{
 "cells": [
  {
   "cell_type": "markdown",
   "id": "heavy-clarity",
   "metadata": {},
   "source": [
    "# Bag of Words Baseline Classifier\n",
    "\n",
    "To create a simple baseline for measurement of the neural accuracy, I am using a basic bag-of-words classification based on `classifier.py` in the tutotrial found at https://github.com/CharlesRajendran/TextClassification.\n",
    "\n",
    "The approach uses lower case words only to match the uncased versions we are using, removes stop words and converts words to base lemmas."
   ]
  },
  {
   "cell_type": "code",
   "execution_count": 1,
   "id": "disabled-irish",
   "metadata": {},
   "outputs": [],
   "source": [
    "## Usual Imports\n",
    "import numpy as np\n",
    "import re\n",
    "import nltk\n",
    "from nltk.tokenize import word_tokenize as wt \n",
    "from nltk.corpus import stopwords\n",
    "from nltk.stem.porter import PorterStemmer\n",
    "from sklearn.feature_extraction.text import CountVectorizer\n",
    "\n",
    "import sys\n",
    "sys.path.insert(0, '../python')\n",
    "import debug\n",
    "from jbyrne_utils import load_data"
   ]
  },
  {
   "cell_type": "code",
   "execution_count": 2,
   "id": "respective-pension",
   "metadata": {},
   "outputs": [
    {
     "name": "stdout",
     "output_type": "stream",
     "text": [
      "Loaded 11056 data records.\n"
     ]
    },
    {
     "name": "stderr",
     "output_type": "stream",
     "text": [
      "[nltk_data] Downloading package punkt to /home/james/nltk_data...\n",
      "[nltk_data]   Package punkt is already up-to-date!\n",
      "[nltk_data] Downloading package stopwords to /home/james/nltk_data...\n",
      "[nltk_data]   Package stopwords is already up-to-date!\n"
     ]
    },
    {
     "data": {
      "text/plain": [
       "True"
      ]
     },
     "execution_count": 2,
     "metadata": {},
     "output_type": "execute_result"
    }
   ],
   "source": [
    "dataset = load_data(\"../data/3xNCS.json\")\n",
    "\n",
    "nltk.download('punkt')\n",
    "nltk.download('stopwords')"
   ]
  },
  {
   "cell_type": "code",
   "execution_count": 3,
   "id": "eight-discovery",
   "metadata": {},
   "outputs": [
    {
     "data": {
      "text/plain": [
       "array([{'sentence_id': 8119, 'label': 0, 'text': 'Therefore, I think the question before the American people is: Are we doing as much as we can do?'},\n",
       "       {'sentence_id': 3595, 'label': 0, 'text': \"The worst thing we could do in this economic climate is to raise people's taxes.\"},\n",
       "       {'sentence_id': 23764, 'label': 0, 'text': 'And I ask you for the privilege of leading our nation to be stronger at home and respected again in the world.'},\n",
       "       ...,\n",
       "       {'sentence_id': 21456, 'label': 0, 'text': 'I think that has to be a part of a candidate for president or being president.'},\n",
       "       {'sentence_id': 13844, 'label': 1, 'text': 'When I was asked by our government to do the POW project, within a year the Vietnamese had sent people into Canada to make arrangements to have me and my family killed.'},\n",
       "       {'sentence_id': 27495, 'label': 0, 'text': 'But over time, what they can do is regain credibility.'}],\n",
       "      dtype=object)"
      ]
     },
     "execution_count": 3,
     "metadata": {},
     "output_type": "execute_result"
    }
   ],
   "source": [
    "dataset\n"
   ]
  },
  {
   "cell_type": "code",
   "execution_count": 4,
   "id": "industrial-upgrade",
   "metadata": {},
   "outputs": [],
   "source": [
    "stemmer = PorterStemmer()\n",
    "\n",
    "data = []\n",
    "\n",
    "\n",
    "for i in range(len(dataset)):\n",
    "    text = dataset[i][\"text\"]\n",
    "\n",
    "    # remove non alphabatic characters\n",
    "    text = re.sub('[^A-Za-z]', ' ', text)\n",
    "\n",
    "    # make words lowercase, because Go and go will be considered as two words\n",
    "    text = text.lower()\n",
    "\n",
    "    # tokenising\n",
    "    tokenized_text = wt(text)\n",
    "\n",
    "    # remove stop words and stemming\n",
    " \n",
    "    text_processed = []\n",
    "    for word in tokenized_text:\n",
    "        if word not in set(stopwords.words('english')):\n",
    "            text_processed.append(stemmer.stem(word))\n",
    "\n",
    "    new_text = \" \".join(text_processed)\n",
    "    data.append(new_text)"
   ]
  },
  {
   "cell_type": "code",
   "execution_count": 5,
   "id": "promotional-negotiation",
   "metadata": {},
   "outputs": [],
   "source": [
    "# creating the feature matrix \n",
    "\n",
    "matrix = CountVectorizer(max_features=1000)\n",
    "X = matrix.fit_transform(data).toarray()\n",
    "y = [ i[\"label\"] for i in dataset]\n",
    "\n",
    "# split train and test data\n",
    "train_len = int(0.8 * len(dataset))\n",
    "val_len = int(0.2 * len(dataset))\n",
    "\n",
    "X_train = X[:train_len]\n",
    "X_test  = X[train_len:]\n",
    "y_train = y[:train_len]\n",
    "y_test  = y[train_len:]\n",
    "\n",
    "# Naive Bayes \n",
    "from sklearn.naive_bayes import GaussianNB\n",
    "classifier = GaussianNB()\n",
    "classifier.fit(X_train, y_train)\n",
    "\n",
    "# predict class\n",
    "y_pred = classifier.predict(X_test)\n",
    "\n",
    "# Confusion matrix\n",
    "from sklearn.metrics import confusion_matrix, classification_report, accuracy_score\n",
    "cm = confusion_matrix(y_test, y_pred)\n",
    "cr = classification_report(y_test, y_pred)\n",
    "\n",
    "accuracy = accuracy_score(y_test, y_pred)"
   ]
  },
  {
   "cell_type": "code",
   "execution_count": 6,
   "id": "parliamentary-vector",
   "metadata": {},
   "outputs": [
    {
     "data": {
      "text/plain": [
       "0.6980108499095841"
      ]
     },
     "execution_count": 6,
     "metadata": {},
     "output_type": "execute_result"
    }
   ],
   "source": [
    "accuracy"
   ]
  },
  {
   "cell_type": "code",
   "execution_count": null,
   "id": "ongoing-writing",
   "metadata": {},
   "outputs": [],
   "source": []
  }
 ],
 "metadata": {
  "kernelspec": {
   "display_name": "Python 3",
   "language": "python",
   "name": "python3"
  },
  "language_info": {
   "codemirror_mode": {
    "name": "ipython",
    "version": 3
   },
   "file_extension": ".py",
   "mimetype": "text/x-python",
   "name": "python",
   "nbconvert_exporter": "python",
   "pygments_lexer": "ipython3",
   "version": "3.8.2"
  }
 },
 "nbformat": 4,
 "nbformat_minor": 5
}
