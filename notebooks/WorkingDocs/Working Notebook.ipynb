{
 "cells": [
  {
   "cell_type": "markdown",
   "id": "noble-defense",
   "metadata": {},
   "source": [
    "__Stuff to do__\n",
    "\n",
    "* Check individual inferrence from custom BERT - WORKS JUST FINE\n",
    "* Create and run performance tests for each of the best models\n",
    "    * Copy Best Models to place for adding to the Git\n",
    "    * Create tokenizer for the crowdsourced information\n",
    "* Create Diagrams for the best models for inclusion in the report\n",
    "* Final look at Custom - if I can get it working (could be 24-48 hours running, so needs to start by Thursday night)\n",
    "* Different Optimizers for BERT (18+ hours)\n",
    "* "
   ]
  }
 ],
 "metadata": {
  "kernelspec": {
   "display_name": "Python 3",
   "language": "python",
   "name": "python3"
  },
  "language_info": {
   "codemirror_mode": {
    "name": "ipython",
    "version": 3
   },
   "file_extension": ".py",
   "mimetype": "text/x-python",
   "name": "python",
   "nbconvert_exporter": "python",
   "pygments_lexer": "ipython3",
   "version": "3.8.2"
  }
 },
 "nbformat": 4,
 "nbformat_minor": 5
}
