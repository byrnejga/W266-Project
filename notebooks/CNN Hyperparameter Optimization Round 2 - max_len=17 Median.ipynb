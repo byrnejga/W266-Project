{
 "cells": [
  {
   "cell_type": "raw",
   "id": "pregnant-valley",
   "metadata": {},
   "source": [
    "## CNN sentence classifier - Rerun of training using only the first 17 tokens - the median sentence length.\n"
   ]
  },
  {
   "cell_type": "code",
   "execution_count": null,
   "id": "fleet-triple",
   "metadata": {},
   "outputs": [],
   "source": [
    "## Enable Tensorboard\n",
    "%load_ext tensorboard\n",
    "\n",
    "\n",
    "## Usual Imports\n",
    "import numpy as np\n",
    "\n",
    "## Add local module folder to the path and load modules\n",
    "\n",
    "import sys\n",
    "sys.path.insert(0, '../python')\n",
    "import debug\n",
    "from jbyrne_utils import load_data, tokenize_sentences, embed_matrix, run_model\n",
    "\n"
   ]
  },
  {
   "cell_type": "code",
   "execution_count": null,
   "id": "inner-retirement",
   "metadata": {},
   "outputs": [],
   "source": [
    "### The following uses compatibility mode to allow use\n",
    "### of CUDA 11.2 with GPU support\n",
    "\n",
    "from tensorflow.compat.v1 import ConfigProto\n",
    "from tensorflow.compat.v1 import InteractiveSession\n",
    "\n",
    "config = ConfigProto()\n",
    "config.gpu_options.allow_growth = True\n",
    "session = InteractiveSession(config=config)"
   ]
  },
  {
   "cell_type": "code",
   "execution_count": null,
   "id": "fallen-richmond",
   "metadata": {},
   "outputs": [],
   "source": [
    "# maximum number of tokens to look at.\n",
    "max_len = 17\n"
   ]
  },
  {
   "cell_type": "markdown",
   "id": "closing-bowling",
   "metadata": {},
   "source": [
    "### Read in the data set of sentences into numpy array."
   ]
  },
  {
   "cell_type": "code",
   "execution_count": null,
   "id": "charming-airfare",
   "metadata": {
    "scrolled": false
   },
   "outputs": [],
   "source": [
    "d = load_data(\"../data/3xNCS.json\")\n"
   ]
  },
  {
   "cell_type": "markdown",
   "id": "prepared-patch",
   "metadata": {},
   "source": [
    "## Split into train, validation and test sets\n",
    "\n",
    "Before separating inputs and labels, duplicate the positive cases twice in the training data set."
   ]
  },
  {
   "cell_type": "code",
   "execution_count": null,
   "id": "parallel-supervision",
   "metadata": {},
   "outputs": [],
   "source": [
    "%%time \n",
    "\n",
    "train_len = int(0.8 * len(d))\n",
    "val_len = int(0.2 * len(d))\n",
    "\n",
    "train, val = np.split(d, [train_len])\n",
    "\n",
    "pos_samples = np.array( [ i for i in d if i[\"label\"] == 1 ])\n",
    "\n",
    "train = np.concatenate( (train, pos_samples, pos_samples) )\n",
    "\n",
    "# Re-randomize the training array with the additional entries\n",
    "np.random.seed(42)\n",
    "np.random.shuffle(train)\n",
    "\n",
    "\n",
    "# split into x and y sets for use in keras runs\n",
    "x_train, y_train = np.array( [ i[\"text\"] for i in train ] ), np.array( [ i[\"label\"] for i in train ] )\n",
    "x_val,   y_val   = np.array( [ i[\"text\"] for i in val ] ),   np.array( [ i[\"label\"] for i in val ]   )\n",
    "# x_test,  y_test  = np.array( [ i[\"text\"] for i in test ] ),  np.array( [ i[\"label\"] for i in test ]  )\n"
   ]
  },
  {
   "cell_type": "markdown",
   "id": "foreign-january",
   "metadata": {},
   "source": [
    "## Tokenize the training data set and build a vocabulary from it\n",
    "Want to do this to minimize the vocab to just what is in the training set for performance.\n",
    "\n",
    "using defaults:  strip all punctuation except apostrophies, set to lower case and split on spaces. No restriction on length of vocabulary."
   ]
  },
  {
   "cell_type": "code",
   "execution_count": null,
   "id": "suffering-tomato",
   "metadata": {},
   "outputs": [],
   "source": [
    "# Tokenize the training data set and build a vocabulary from it\n",
    "# Want to do this to minimize the vocab to just what is in\n",
    "# the training set for performance.\n",
    "\n",
    "x_train_ids, x_val_ids, x_test_ids, tokenizer = tokenize_sentences(x_train, x_val, np.array([]), max_len)\n"
   ]
  },
  {
   "cell_type": "code",
   "execution_count": null,
   "id": "attractive-youth",
   "metadata": {},
   "outputs": [],
   "source": [
    "# Check for % of statements that are checkable claims to \n",
    "# ensure we have some level of balance that will avoid\n",
    "# high accuracy for single value guessing.\n",
    "\n",
    "print(f\"proportion of checkable claims in training data  : {np.count_nonzero(y_train == 1)/len(y_train):.4f}\")\n",
    "print(f\"proportion of checkable claims in validation data: {np.count_nonzero(y_val == 1)/len(y_val):.4f}\")\n",
    "# print(f\"proportion of checkable claims in test data      : {np.count_nonzero(y_test == 1)/len(y_test):.4f}\")"
   ]
  },
  {
   "cell_type": "code",
   "execution_count": null,
   "id": "functional-underground",
   "metadata": {
    "scrolled": true
   },
   "outputs": [],
   "source": [
    "%%time\n",
    "\n",
    "\n",
    "# number of dimensions in the embeddings\n",
    "embed_dim = 50\n",
    "\n",
    "# Get the embedding matrix for the Embedding layer in Keras.\n",
    "vocab_list, embedding_matrix, vocab_size = embed_matrix(tokenizer, embed_dim)"
   ]
  },
  {
   "cell_type": "code",
   "execution_count": null,
   "id": "purple-bruce",
   "metadata": {},
   "outputs": [],
   "source": [
    "len( embedding_matrix)"
   ]
  },
  {
   "cell_type": "code",
   "execution_count": null,
   "id": "english-satin",
   "metadata": {},
   "outputs": [],
   "source": [
    "embedding_matrix.shape[1]"
   ]
  },
  {
   "cell_type": "code",
   "execution_count": null,
   "id": "married-immunology",
   "metadata": {},
   "outputs": [],
   "source": [
    "print(len(x_train_ids))\n",
    "print(len(y_train))\n",
    "print(len(x_val_ids))\n",
    "print(len(y_val))"
   ]
  },
  {
   "cell_type": "code",
   "execution_count": null,
   "id": "destroyed-saturday",
   "metadata": {
    "scrolled": true
   },
   "outputs": [],
   "source": [
    "# from jbyrne_utils import load_data, tokenize_sentences, embed_matrix, run_model\n",
    "\n",
    "# run_model(embedding_matrix, x_train_ids, y_train, x_val_ids, y_val)"
   ]
  },
  {
   "cell_type": "markdown",
   "id": "relative-summary",
   "metadata": {},
   "source": [
    "## Output of the tests are deleted as the notebook will not load in Chrome"
   ]
  },
  {
   "cell_type": "code",
   "execution_count": null,
   "id": "entire-voltage",
   "metadata": {
    "scrolled": false
   },
   "outputs": [],
   "source": [
    "%%time\n",
    "# this is very quick, so we can use grid search on these models.\n",
    "\n",
    "run_logfile = \"runs2ballen17.log\"\n",
    "\n",
    "epochs = 20  # Not a variable, so we can determine the best epoch for the best model\n",
    "\n",
    "#Write the header line\n",
    "with open(run_logfile,'a') as f:\n",
    "   f.write(\"timestamp|max_len|epochs|batch_size|embed_dim|num_filters|kernel_sizes|dense_layer_dims|dropout_rate|\")\n",
    "   for metric in [ 'loss', 'accuracy', 'val_loss', 'val_accuracy']:\n",
    "       f.write(f\"{metric}|\")\n",
    "       for i in range(0,epochs):\n",
    "           f.write(f\"{metric}-{i}|\")\n",
    "   f.write(f\"END\\n\")        \n",
    "   f.close()\n",
    "\n",
    "    \n",
    "# run the models  (Removed the filter sizes 64 that exceed the size of the shorter sequence)\n",
    "for k_sizes in [ [8,16],  [4,8,12], [4,8,16], [8,12,16] ]:\n",
    "\n",
    "    # Set filter counts according to the number of kernels in use.\n",
    "    if len(k_sizes) == 2:\n",
    "        filter_counts = [ [16,16], [16,32], [32,32] ]\n",
    "    if len(k_sizes) == 3:\n",
    "        filter_counts = [ [16,16,16], [32, 32, 32], [64, 64, 64], [96.96 ,96] ]\n",
    "    if len(k_sizes) == 4:\n",
    "        filter_counts = [ [2,2,2,2], [4,4,4,4], [8,8,8,8], [32,32,32,32], [128, 128, 128, 128], [8,16,32,64] ]\n",
    "    \n",
    "    \n",
    "    for n_fil in filter_counts:\n",
    "        \n",
    "        for dld in [ [8], [16], [32], [32, 16] ]:\n",
    "\n",
    "            run_model(embedding_matrix,\n",
    "                      x_train_ids,\n",
    "                      y_train,\n",
    "                      x_val_ids,\n",
    "                      y_val,\n",
    "                      kernel_sizes     = k_sizes,\n",
    "                      num_filters      = n_fil,\n",
    "                      dense_layer_dims = dld,\n",
    "                      epochs           = epochs,\n",
    "                      logfile          = run_logfile,\n",
    "                      logtag           = \"tblogs-bal17\",\n",
    "                      model_dir        = \"../models/CNNBal17\",\n",
    "                      max_len          = max_len)\n",
    "            \n",
    "            print(\"\\n\\n\\n##########################################################################\\n\\n\\n\")\n",
    "\n"
   ]
  },
  {
   "cell_type": "code",
   "execution_count": null,
   "id": "micro-reliance",
   "metadata": {},
   "outputs": [],
   "source": []
  },
  {
   "cell_type": "markdown",
   "id": "certain-casino",
   "metadata": {},
   "source": [
    "\n",
    "\n",
    "\n",
    "\n",
    "### Dataset Citations\n",
    "\n",
    "@inproceedings{arslan2020claimbuster,\n",
    "    title={{A Benchmark Dataset of Check-worthy Factual Claims}},\n",
    "    author={Arslan, Fatma and Hassan, Naeemul and Li, Chengkai and Tremayne, Mark },\n",
    "    booktitle={14th International AAAI Conference on Web and Social Media},\n",
    "    year={2020},\n",
    "    organization={AAAI}\n",
    "}\n",
    "\n",
    "@article{meng2020gradient,\n",
    "  title={Gradient-Based Adversarial Training on Transformer Networks for Detecting Check-Worthy Factual Claims},\n",
    "  author={Meng, Kevin and Jimenez, Damian and Arslan, Fatma and Devasier, Jacob Daniel and Obembe, Daniel and Li, Chengkai},\n",
    "  journal={arXiv preprint arXiv:2002.07725},\n",
    "  year={2020}\n",
    "}\n",
    "\n",
    "Jeffrey Pennington, Richard Socher, and Christopher D. Manning. 2014. GloVe: Global Vectors for Word Representation. [pdf] [bib]\n",
    "\n",
    "\n",
    "### Useful resources in building this\n",
    "Using pre-trained word embeddings: https://keras.io/examples/nlp/pretrained_word_embeddings/"
   ]
  }
 ],
 "metadata": {
  "kernelspec": {
   "display_name": "Python 3",
   "language": "python",
   "name": "python3"
  },
  "language_info": {
   "codemirror_mode": {
    "name": "ipython",
    "version": 3
   },
   "file_extension": ".py",
   "mimetype": "text/x-python",
   "name": "python",
   "nbconvert_exporter": "python",
   "pygments_lexer": "ipython3",
   "version": "3.8.2"
  }
 },
 "nbformat": 4,
 "nbformat_minor": 5
}
