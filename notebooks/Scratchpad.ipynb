{
 "cells": [
  {
   "cell_type": "markdown",
   "id": "complete-mortality",
   "metadata": {},
   "source": [
    "\n",
    "\n",
    "## TO DO\n",
    "1. Set up run to tune hyperparams - In progress\n",
    "4. See if we need to even up the classes in the data\n",
    "\n",
    "\n"
   ]
  }
 ],
 "metadata": {
  "kernelspec": {
   "display_name": "Python 3",
   "language": "python",
   "name": "python3"
  },
  "language_info": {
   "codemirror_mode": {
    "name": "ipython",
    "version": 3
   },
   "file_extension": ".py",
   "mimetype": "text/x-python",
   "name": "python",
   "nbconvert_exporter": "python",
   "pygments_lexer": "ipython3",
   "version": "3.8.2"
  }
 },
 "nbformat": 4,
 "nbformat_minor": 5
}
