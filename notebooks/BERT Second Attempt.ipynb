{
 "cells": [
  {
   "cell_type": "code",
   "execution_count": 1,
   "id": "fabulous-impression",
   "metadata": {},
   "outputs": [],
   "source": [
    "# !pip install tensorflow_text\n",
    "# !pip install transformers"
   ]
  },
  {
   "cell_type": "code",
   "execution_count": 2,
   "id": "plastic-survival",
   "metadata": {},
   "outputs": [
    {
     "name": "stdout",
     "output_type": "stream",
     "text": [
      "*************** DEBUG DETAILS TURNED ON *****************\n"
     ]
    }
   ],
   "source": [
    "## Usual Imports\n",
    "\n",
    "## Math and Arrays\n",
    "import numpy as np\n",
    "# import pandas as pd\n",
    "from statistics import mean\n",
    "\n",
    "# OS and Utilities\n",
    "import sys\n",
    "import datetime\n",
    "\n",
    "## File and String Handling\n",
    "import re\n",
    "import json\n",
    "import string\n",
    "\n",
    "# Visualizations\n",
    "import matplotlib.pyplot as plt\n",
    "\n",
    "# BERT\n",
    "from transformers import *\n",
    "from transformers import BertTokenizer, TFBertModel, BertConfig\n",
    "\n",
    "# Tensorflow 2 core - preprocessing no longer needed as we are using BERT\n",
    "import tensorflow as tf\n",
    "import tensorflow_hub as hub\n",
    "import tensorflow_text as text\n",
    "from tensorflow import keras\n",
    "# from tensorflow.keras.layers.experimental.preprocessing import TextVectorization\n",
    "# from tensorflow.keras.preprocessing.sequence import pad_sequences\n",
    "\n",
    "# Add local path to .py modules and add utilities\n",
    "sys.path.insert(0, '../python')\n",
    "\n",
    "import debug\n",
    "\n",
    "from jbyrne_utils import load_data\n",
    "# from jbyrne_utils import tokenize_sentences\n",
    "# from jbyrne_utils import embed_matrix\n",
    "# from jbyrne_utils import run_model\n",
    "\n",
    "# Set message level\n",
    "\n",
    "# debug.off()\n",
    "# debug.on()\n",
    "debug.show_detail()\n"
   ]
  },
  {
   "cell_type": "code",
   "execution_count": 3,
   "id": "scheduled-collar",
   "metadata": {},
   "outputs": [],
   "source": [
    "### Parameters for the base model\n",
    "\n",
    "# maximum number of tokens to look at.\n",
    "max_len = 100\n",
    "\n"
   ]
  },
  {
   "cell_type": "markdown",
   "id": "lightweight-window",
   "metadata": {},
   "source": [
    "## Step 1:  Load the ClaimBuster datafile"
   ]
  },
  {
   "cell_type": "code",
   "execution_count": 4,
   "id": "dominant-watershed",
   "metadata": {},
   "outputs": [
    {
     "name": "stdout",
     "output_type": "stream",
     "text": [
      "Loaded 11056 data records.\n"
     ]
    }
   ],
   "source": [
    "d = load_data(\"../data/3xNCS.json\")\n",
    "\n",
    "# Randomize the order as the data is sorted by class\n",
    "np.random.seed(42)\n",
    "np.random.shuffle(d)\n"
   ]
  },
  {
   "cell_type": "code",
   "execution_count": 5,
   "id": "finite-reducing",
   "metadata": {},
   "outputs": [
    {
     "data": {
      "text/plain": [
       "{'sentence_id': 9703,\n",
       " 'label': 1,\n",
       " 'text': 'President Obama was right, he said that that was outrageous to have deficits as high as half a trillion dollars under the Bush years.'}"
      ]
     },
     "execution_count": 5,
     "metadata": {},
     "output_type": "execute_result"
    }
   ],
   "source": [
    "## View an random example entry\n",
    "d[512]"
   ]
  },
  {
   "cell_type": "markdown",
   "id": "wound-return",
   "metadata": {},
   "source": [
    "## Step 2:  Tokenize the sentences using BERT tokenizer\n",
    "\n"
   ]
  },
  {
   "cell_type": "code",
   "execution_count": 6,
   "id": "capital-study",
   "metadata": {},
   "outputs": [],
   "source": [
    "bert_tokenizer = BertTokenizer.from_pretrained(\"bert-base-uncased\")"
   ]
  },
  {
   "cell_type": "code",
   "execution_count": 7,
   "id": "apart-saskatchewan",
   "metadata": {},
   "outputs": [
    {
     "name": "stdout",
     "output_type": "stream",
     "text": [
      "****************** DEBUG TURNED ON **********************\n",
      "11056 11056 11056 11056\n",
      "*************** DEBUG DETAILS TURNED ON *****************\n"
     ]
    }
   ],
   "source": [
    "input_sentences=[]\n",
    "input_ids=[]\n",
    "attention_masks=[]  # used so BERT can discount padding in the fixed-length token list\n",
    "\n",
    "# avoid big output for just this cell\n",
    "debug.on()\n",
    "\n",
    "for sentence in [ i[\"text\"] for i in d ]:\n",
    "    input_sentences.append(sentence)\n",
    "    bert_input = bert_tokenizer.encode_plus(sentence,\n",
    "                                            add_special_tokens=True,  # adds the CLS etc.\n",
    "                                            max_length=max_len,\n",
    "                                            truncation=True,          # truncate sentences over max_len\n",
    "                                            padding = 'max_length',   # add padding ids (0) up to max_len\n",
    "                                            return_attention_mask=True)\n",
    "    input_ids.append(bert_input['input_ids'])\n",
    "    attention_masks.append(bert_input['attention_mask'])\n",
    "    debug.detail(bert_input)\n",
    "\n",
    "    \n",
    "input_ids = np.asarray(input_ids)\n",
    "attention_masks = np.asarray(attention_masks)\n",
    "input_sentences = np.asarray(input_sentences)\n",
    "labels = np.array( [i[\"label\"] for i in d] )\n",
    "\n",
    "# check lengths of arrays\n",
    "debug.msg(len(input_ids), len(attention_masks), len(labels), len(input_sentences))\n",
    "\n",
    "# reset to previous debugging level\n",
    "debug.last()"
   ]
  },
  {
   "cell_type": "code",
   "execution_count": 8,
   "id": "resident-determination",
   "metadata": {},
   "outputs": [
    {
     "name": "stdout",
     "output_type": "stream",
     "text": [
      "President Obama was right, he said that that was outrageous to have deficits as high as half a trillion dollars under the Bush years.\n",
      "[  101  2343  8112  2001  2157  1010  2002  2056  2008  2008  2001 25506\n",
      "  2000  2031 15074  2015  2004  2152  2004  2431  1037 23458  6363  2104\n",
      "  1996  5747  2086  1012   102     0     0     0     0     0     0     0\n",
      "     0     0     0     0     0     0     0     0     0     0     0     0\n",
      "     0     0     0     0     0     0     0     0     0     0     0     0\n",
      "     0     0     0     0     0     0     0     0     0     0     0     0\n",
      "     0     0     0     0     0     0     0     0     0     0     0     0\n",
      "     0     0     0     0     0     0     0     0     0     0     0     0\n",
      "     0     0     0     0]\n"
     ]
    },
    {
     "data": {
      "text/plain": [
       "['[CLS]',\n",
       " 'president',\n",
       " 'obama',\n",
       " 'was',\n",
       " 'right',\n",
       " ',',\n",
       " 'he',\n",
       " 'said',\n",
       " 'that',\n",
       " 'that',\n",
       " 'was',\n",
       " 'outrageous',\n",
       " 'to',\n",
       " 'have',\n",
       " 'deficit',\n",
       " '##s',\n",
       " 'as',\n",
       " 'high',\n",
       " 'as',\n",
       " 'half',\n",
       " 'a',\n",
       " 'trillion',\n",
       " 'dollars',\n",
       " 'under',\n",
       " 'the',\n",
       " 'bush',\n",
       " 'years',\n",
       " '.',\n",
       " '[SEP]',\n",
       " '[PAD]',\n",
       " '[PAD]',\n",
       " '[PAD]',\n",
       " '[PAD]',\n",
       " '[PAD]',\n",
       " '[PAD]',\n",
       " '[PAD]',\n",
       " '[PAD]',\n",
       " '[PAD]',\n",
       " '[PAD]',\n",
       " '[PAD]',\n",
       " '[PAD]',\n",
       " '[PAD]',\n",
       " '[PAD]',\n",
       " '[PAD]',\n",
       " '[PAD]',\n",
       " '[PAD]',\n",
       " '[PAD]',\n",
       " '[PAD]',\n",
       " '[PAD]',\n",
       " '[PAD]',\n",
       " '[PAD]',\n",
       " '[PAD]',\n",
       " '[PAD]',\n",
       " '[PAD]',\n",
       " '[PAD]',\n",
       " '[PAD]',\n",
       " '[PAD]',\n",
       " '[PAD]',\n",
       " '[PAD]',\n",
       " '[PAD]',\n",
       " '[PAD]',\n",
       " '[PAD]',\n",
       " '[PAD]',\n",
       " '[PAD]',\n",
       " '[PAD]',\n",
       " '[PAD]',\n",
       " '[PAD]',\n",
       " '[PAD]',\n",
       " '[PAD]',\n",
       " '[PAD]',\n",
       " '[PAD]',\n",
       " '[PAD]',\n",
       " '[PAD]',\n",
       " '[PAD]',\n",
       " '[PAD]',\n",
       " '[PAD]',\n",
       " '[PAD]',\n",
       " '[PAD]',\n",
       " '[PAD]',\n",
       " '[PAD]',\n",
       " '[PAD]',\n",
       " '[PAD]',\n",
       " '[PAD]',\n",
       " '[PAD]',\n",
       " '[PAD]',\n",
       " '[PAD]',\n",
       " '[PAD]',\n",
       " '[PAD]',\n",
       " '[PAD]',\n",
       " '[PAD]',\n",
       " '[PAD]',\n",
       " '[PAD]',\n",
       " '[PAD]',\n",
       " '[PAD]',\n",
       " '[PAD]',\n",
       " '[PAD]',\n",
       " '[PAD]',\n",
       " '[PAD]',\n",
       " '[PAD]',\n",
       " '[PAD]']"
      ]
     },
     "execution_count": 8,
     "metadata": {},
     "output_type": "execute_result"
    }
   ],
   "source": [
    "## Verify the tokenization of the previous sample sentence\n",
    "\n",
    "debug.msg(d[512][\"text\"])\n",
    "debug.msg(input_ids[512])\n",
    "bert_tokenizer.convert_ids_to_tokens(input_ids[512])\n",
    "\n"
   ]
  },
  {
   "cell_type": "markdown",
   "id": "covered-burns",
   "metadata": {},
   "source": [
    "## Step 3a: Split into training, validation and test datasets"
   ]
  },
  {
   "cell_type": "code",
   "execution_count": 9,
   "id": "governing-starter",
   "metadata": {},
   "outputs": [
    {
     "name": "stdout",
     "output_type": "stream",
     "text": [
      "proportion of checkable claims in training data  : 0.2495\n",
      "proportion of checkable claims in validation data: 0.2518\n",
      "8844 8844 8844 8844\n",
      "2212 2212 2212 2212\n"
     ]
    }
   ],
   "source": [
    "train_len = int(0.8 * len(d))\n",
    "val_len = int(0.2 * len(d))\n",
    "\n",
    "train_ids, val_ids             = np.split(input_ids, [train_len])\n",
    "train_attn, val_attn           = np.split(attention_masks, [train_len])\n",
    "train_sentences, val_sentences = np.split(input_sentences, [train_len])\n",
    "train_labels, val_labels       = np.split(labels, [train_len])\n",
    "\n",
    "debug.msg(f\"proportion of checkable claims in training data  : {np.count_nonzero(train_labels == 1)/len(train_labels):.4f}\")\n",
    "debug.msg(f\"proportion of checkable claims in validation data: {np.count_nonzero(val_labels == 1)/len(val_labels):.4f}\")\n",
    "\n",
    "debug.detail(len(train_ids), len(train_attn), len(train_sentences), len(train_labels))\n",
    "debug.detail(len(val_ids), len(val_attn), len(val_sentences), len(val_labels))"
   ]
  },
  {
   "cell_type": "markdown",
   "id": "innocent-storage",
   "metadata": {},
   "source": [
    "## Step 3b: Even out the checkable and non-checkable classes.\n",
    "\n",
    "The intention here is to equalize the number of checkable and non-checkable sentences in the training dataset. In the raw dataset, approximately 25% of the statements are labelled as checkable claims.\n",
    "\n",
    "As we are looking at detailed text and whether it includes a checkable claim, there is no reliable equivalent of the data enhancement techniques that exist for image or sound data.  \n",
    "\n",
    "We are presented with the choice, therefore, of removing $\\frac{2}{3}$ of the non-checkable claims - as the source dataset has provided, or adding two copies of each checkable claim to reach approximately a 1:1 ratio of classes in the training data. The second method has proved especially successful in the CNN examples, so we will do the same for the BERT case.\n"
   ]
  },
  {
   "cell_type": "code",
   "execution_count": 10,
   "id": "moral-mobility",
   "metadata": {},
   "outputs": [
    {
     "name": "stdout",
     "output_type": "stream",
     "text": [
      "(8844, 100)\n",
      "(8844, 100)\n",
      "(8844,)\n",
      "(8844,)\n"
     ]
    }
   ],
   "source": [
    "## Ideally we could rerandomize the training set, but\n",
    "## for the moment, we will try just adding copies of \n",
    "## the positive records to the end.\n",
    "\n",
    "pos_train_ids = train_ids[ train_labels == 1 ]\n",
    "pos_train_attn = train_attn[ train_labels == 1 ]\n",
    "pos_train_sentences = train_sentences[ train_labels == 1 ]\n",
    "pos_train_labels = train_labels[ train_labels == 1 ]  # kinda redundant, but an easy way to get the right length.\n",
    "\n",
    "print(train_ids.shape)\n",
    "print(train_attn.shape)\n",
    "print(train_sentences.shape)\n",
    "print(train_labels.shape)\n",
    "\n",
    "\n",
    "## concatenate two copies of the positive cases to each of the training datasets\n",
    "\n",
    "train_ids       = np.concatenate( (train_ids, pos_train_ids, pos_train_ids) )\n",
    "train_attn      = np.concatenate( (train_attn, pos_train_attn, pos_train_attn) )\n",
    "train_sentences = np.concatenate( (train_sentences, pos_train_sentences, pos_train_sentences) )\n",
    "train_labels    = np.concatenate( (train_labels, pos_train_labels, pos_train_labels) )"
   ]
  },
  {
   "cell_type": "code",
   "execution_count": 11,
   "id": "prescribed-female",
   "metadata": {},
   "outputs": [
    {
     "name": "stdout",
     "output_type": "stream",
     "text": [
      "train_ids.shape:       (13258, 100)\n",
      "train_attn.shape:      (13258, 100)\n",
      "train_sentences.shape: (13258,)\n",
      "train_labels.shape:    (13258,)\n",
      "\n",
      "\n",
      "val_ids.shape:         (2212, 100)\n",
      "val_attn.shape:        (2212, 100)\n",
      "val_sentences.shape:   (2212,)\n",
      "val_labels.shape:      (2212,)\n"
     ]
    }
   ],
   "source": [
    "print(f\"train_ids.shape:       {train_ids.shape}\")\n",
    "print(f\"train_attn.shape:      {train_attn.shape}\")\n",
    "print(f\"train_sentences.shape: {train_sentences.shape}\")\n",
    "print(f\"train_labels.shape:    {train_labels.shape}\\n\\n\")\n",
    "\n",
    "print(f\"val_ids.shape:         {val_ids.shape}\")\n",
    "print(f\"val_attn.shape:        {val_attn.shape}\")\n",
    "print(f\"val_sentences.shape:   {val_sentences.shape}\")\n",
    "print(f\"val_labels.shape:      {val_labels.shape}\")"
   ]
  },
  {
   "cell_type": "markdown",
   "id": "reserved-omaha",
   "metadata": {},
   "source": [
    "## Step 4: Set up the Bert model\n",
    "\n",
    "Claim detection is a sentence classification task, so I will base this on the `TFBertForSequenceClassification` class from the huggungface Tensorflow implementation of Bert. "
   ]
  },
  {
   "cell_type": "code",
   "execution_count": 12,
   "id": "efficient-tobacco",
   "metadata": {},
   "outputs": [
    {
     "name": "stderr",
     "output_type": "stream",
     "text": [
      "All model checkpoint layers were used when initializing TFBertForSequenceClassification.\n",
      "\n",
      "Some layers of TFBertForSequenceClassification were not initialized from the model checkpoint at bert-base-uncased and are newly initialized: ['classifier']\n",
      "You should probably TRAIN this model on a down-stream task to be able to use it for predictions and inference.\n"
     ]
    },
    {
     "name": "stdout",
     "output_type": "stream",
     "text": [
      "Model: \"tf_bert_for_sequence_classification\"\n",
      "_________________________________________________________________\n",
      "Layer (type)                 Output Shape              Param #   \n",
      "=================================================================\n",
      "bert (TFBertMainLayer)       multiple                  109482240 \n",
      "_________________________________________________________________\n",
      "dropout_37 (Dropout)         multiple                  0         \n",
      "_________________________________________________________________\n",
      "classifier (Dense)           multiple                  1538      \n",
      "=================================================================\n",
      "Total params: 109,483,778\n",
      "Trainable params: 109,483,778\n",
      "Non-trainable params: 0\n",
      "_________________________________________________________________\n",
      "\n",
      "Bert Model None\n"
     ]
    }
   ],
   "source": [
    "bert_trainable = True   # sets whether we can update the bert model during training.\n",
    "\n",
    "\n",
    "\n",
    "bert_model = TFBertForSequenceClassification.from_pretrained('bert-base-uncased',\n",
    "                                                             num_labels=2,\n",
    "                                                             trainable=bert_trainable)\n",
    "\n",
    "print('\\nBert Model',bert_model.summary())"
   ]
  },
  {
   "cell_type": "code",
   "execution_count": 13,
   "id": "useful-workplace",
   "metadata": {},
   "outputs": [],
   "source": [
    "## Compile the model\n",
    "\n",
    "optimizer = keras.optimizers.Adam(learning_rate=2e-5,epsilon=1e-08)  \n",
    "\n",
    "# the following line - a change from \"binary_crossentropy\" seems to make a huge difference\n",
    "loss = tf.keras.losses.SparseCategoricalCrossentropy(from_logits=True)\n",
    "metric    = keras.metrics.SparseCategoricalAccuracy('accuracy')\n",
    "\n",
    "bert_model.compile(loss=loss, optimizer=optimizer, metrics=[metric] )\n"
   ]
  },
  {
   "cell_type": "code",
   "execution_count": 14,
   "id": "complicated-chambers",
   "metadata": {},
   "outputs": [],
   "source": [
    "runtag = datetime.datetime.now().strftime(\"%y%m%d-%H%M%S\")\n",
    "\n",
    "log_dir='./tb_bert/'+ runtag\n",
    "\n",
    "model_save_path='../models/bert_model/' + runtag\n",
    "\n",
    "## Add callbacks to save both the best weights we find and info for tensorboard\n",
    "callbacks = [keras.callbacks.ModelCheckpoint(filepath=model_save_path,\n",
    "                                             save_weights_only=False,\n",
    "                                             monitor='val_loss',\n",
    "                                             mode='min',\n",
    "                                             save_best_only=True),\n",
    "             keras.callbacks.TensorBoard(log_dir=log_dir)]\n"
   ]
  },
  {
   "cell_type": "markdown",
   "id": "protected-category",
   "metadata": {},
   "source": [
    "## Step 5: Train the Bert Model, and check against validation step"
   ]
  },
  {
   "cell_type": "code",
   "execution_count": 15,
   "id": "million-remark",
   "metadata": {
    "scrolled": false
   },
   "outputs": [
    {
     "name": "stdout",
     "output_type": "stream",
     "text": [
      "Epoch 1/6\n",
      "WARNING:tensorflow:The parameters `output_attentions`, `output_hidden_states` and `use_cache` cannot be updated when calling a model.They have to be set to True/False in the config object (i.e.: `config=XConfig.from_pretrained('name', output_attentions=True)`).\n",
      "WARNING:tensorflow:AutoGraph could not transform <bound method Socket.send of <zmq.sugar.socket.Socket object at 0x7f96d588aee0>> and will run it as-is.\n",
      "Please report this to the TensorFlow team. When filing the bug, set the verbosity to 10 (on Linux, `export AUTOGRAPH_VERBOSITY=10`) and attach the full output.\n",
      "Cause: module, class, method, function, traceback, frame, or code object was expected, got cython_function_or_method\n",
      "To silence this warning, decorate the function with @tf.autograph.experimental.do_not_convert\n",
      "WARNING: AutoGraph could not transform <bound method Socket.send of <zmq.sugar.socket.Socket object at 0x7f96d588aee0>> and will run it as-is.\n",
      "Please report this to the TensorFlow team. When filing the bug, set the verbosity to 10 (on Linux, `export AUTOGRAPH_VERBOSITY=10`) and attach the full output.\n",
      "Cause: module, class, method, function, traceback, frame, or code object was expected, got cython_function_or_method\n",
      "To silence this warning, decorate the function with @tf.autograph.experimental.do_not_convert\n",
      "WARNING:tensorflow:The parameter `return_dict` cannot be set in graph mode and will always be set to `True`.\n",
      "WARNING:tensorflow:The parameters `output_attentions`, `output_hidden_states` and `use_cache` cannot be updated when calling a model.They have to be set to True/False in the config object (i.e.: `config=XConfig.from_pretrained('name', output_attentions=True)`).\n",
      "WARNING:tensorflow:The parameter `return_dict` cannot be set in graph mode and will always be set to `True`.\n",
      "415/415 [==============================] - ETA: 0s - loss: 0.3467 - accuracy: 0.8484WARNING:tensorflow:The parameters `output_attentions`, `output_hidden_states` and `use_cache` cannot be updated when calling a model.They have to be set to True/False in the config object (i.e.: `config=XConfig.from_pretrained('name', output_attentions=True)`).\n",
      "WARNING:tensorflow:The parameter `return_dict` cannot be set in graph mode and will always be set to `True`.\n",
      "415/415 [==============================] - 157s 352ms/step - loss: 0.3464 - accuracy: 0.8485 - val_loss: 0.1870 - val_accuracy: 0.9259\n",
      "Epoch 2/6\n",
      "415/415 [==============================] - 144s 347ms/step - loss: 0.0839 - accuracy: 0.9712 - val_loss: 0.2639 - val_accuracy: 0.9245\n",
      "Epoch 3/6\n",
      "415/415 [==============================] - 144s 347ms/step - loss: 0.0307 - accuracy: 0.9895 - val_loss: 0.3159 - val_accuracy: 0.9123\n",
      "Epoch 4/6\n",
      "415/415 [==============================] - 144s 348ms/step - loss: 0.0109 - accuracy: 0.9971 - val_loss: 0.3409 - val_accuracy: 0.9222\n",
      "Epoch 5/6\n",
      "415/415 [==============================] - 144s 348ms/step - loss: 0.0141 - accuracy: 0.9956 - val_loss: 0.4419 - val_accuracy: 0.9010\n",
      "Epoch 6/6\n",
      "415/415 [==============================] - 146s 351ms/step - loss: 0.0098 - accuracy: 0.9971 - val_loss: 0.3272 - val_accuracy: 0.9263\n"
     ]
    }
   ],
   "source": [
    "history=bert_model.fit([train_ids,train_attn],\n",
    "                       train_labels,\n",
    "                       batch_size=32,\n",
    "                       epochs=6,\n",
    "                       validation_data=([val_ids,val_attn],val_labels),\n",
    "                       callbacks=callbacks)"
   ]
  },
  {
   "cell_type": "markdown",
   "id": "rapid-platinum",
   "metadata": {},
   "source": [
    "Using this basic guess, we already have reasonable numbers - achieving val_accuracy of 92.6% after only a couple of epochs. Next is to tune the model's hyperparameters to focus down on the best setup."
   ]
  },
  {
   "cell_type": "markdown",
   "id": "other-farmer",
   "metadata": {},
   "source": [
    "## References used\n",
    "BERT Text Classification using Keras https://swatimeena989.medium.com/bert-text-classification-using-keras-903671e0207d#2f06"
   ]
  }
 ],
 "metadata": {
  "kernelspec": {
   "display_name": "Python 3",
   "language": "python",
   "name": "python3"
  },
  "language_info": {
   "codemirror_mode": {
    "name": "ipython",
    "version": 3
   },
   "file_extension": ".py",
   "mimetype": "text/x-python",
   "name": "python",
   "nbconvert_exporter": "python",
   "pygments_lexer": "ipython3",
   "version": "3.8.2"
  }
 },
 "nbformat": 4,
 "nbformat_minor": 5
}
